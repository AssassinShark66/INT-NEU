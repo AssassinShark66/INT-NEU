{
  "nbformat": 4,
  "nbformat_minor": 0,
  "metadata": {
    "colab": {
      "provenance": [],
      "collapsed_sections": []
    },
    "kernelspec": {
      "name": "python3",
      "display_name": "Python 3"
    },
    "language_info": {
      "name": "python"
    }
  },
  "cells": [
    {
      "cell_type": "markdown",
      "source": [
        "# A2: Ejercicios en Python 1\n",
        "\n",
        "*   Nombre:Alejandro Humberto Hernández Casas\n",
        "*   Matricula:1894925   Carrera:IMTC Hora:N1\n",
        "*   Inteligencia Artificial y Redes Neuronales\n",
        "\n"
      ],
      "metadata": {
        "id": "rzeUutA28ZHQ"
      }
    },
    {
      "cell_type": "code",
      "source": [
        "msg = input(\"Favor de ingresar su nombre iniciando con la primer letra en mayuscula: \") \n",
        "X = (\"Ana\", \"Juan\", \"Pedro\") \n",
        "if msg in X:\n",
        "  print(\"Su nombre no se encuentra dentro de la lista aceptable.\")\n",
        "else:\n",
        "  print(\"Hola muy buenas \" + msg) "
      ],
      "metadata": {
        "id": "Qvojr0j88xMY",
        "colab": {
          "base_uri": "https://localhost:8080/"
        },
        "outputId": "359fd753-2166-4717-a6f5-ae039c507848"
      },
      "execution_count": null,
      "outputs": [
        {
          "output_type": "stream",
          "name": "stdout",
          "text": [
            "Favor de ingresar su nombre iniciando con la primer letra en mayuscula: Juan\n",
            "Su nombre no se encuentra dentro de la lista aceptable.\n"
          ]
        }
      ]
    },
    {
      "cell_type": "code",
      "source": [
        "def funcion(lista):\n",
        "  print(lista[-1])\n",
        "  inversa = lista[::-1]\n",
        "  print(inversa)\n",
        "\n",
        "ejemplo= [1,2,3,4,5,6,7,8,9]\n",
        "\n",
        "funcion(ejemplo)"
      ],
      "metadata": {
        "id": "wHeOtPHgPsS1",
        "colab": {
          "base_uri": "https://localhost:8080/"
        },
        "outputId": "eab2d338-ff5f-49f2-8312-c3776f33ed13"
      },
      "execution_count": null,
      "outputs": [
        {
          "output_type": "stream",
          "name": "stdout",
          "text": [
            "9\n",
            "[9, 8, 7, 6, 5, 4, 3, 2, 1]\n"
          ]
        }
      ]
    },
    {
      "cell_type": "code",
      "source": [
        "def funcion(lista):\n",
        "  print(lista)\n",
        "\n",
        "lista = [\"*********\",\"* Hola  *\", \"* a     *\", \"* todos *\", \"* esto  *\", \"* es    *\", \"* un    *\", \"* marco *\",\"*********\"]\n",
        "i=0\n",
        "\n",
        "while i <= 8:\n",
        "  print(lista[i] )\n",
        "  i += 1 \n"
      ],
      "metadata": {
        "colab": {
          "base_uri": "https://localhost:8080/"
        },
        "id": "pZKKDGD_Y_lz",
        "outputId": "c44e103b-01ed-446a-d438-d464a953e300"
      },
      "execution_count": null,
      "outputs": [
        {
          "output_type": "stream",
          "name": "stdout",
          "text": [
            "*********\n",
            "* Hola  *\n",
            "* a     *\n",
            "* todos *\n",
            "* esto  *\n",
            "* es    *\n",
            "* un    *\n",
            "* marco *\n",
            "*********\n"
          ]
        }
      ]
    }
  ]
}