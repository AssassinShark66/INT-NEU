{
  "nbformat": 4,
  "nbformat_minor": 0,
  "metadata": {
    "colab": {
      "provenance": [],
      "collapsed_sections": [
        "eK9clGGKt7gr",
        "3plrsxxwtz5x"
      ]
    },
    "kernelspec": {
      "name": "python3",
      "display_name": "Python 3"
    },
    "language_info": {
      "name": "python"
    }
  },
  "cells": [
    {
      "cell_type": "markdown",
      "source": [
        "# Producto Integrador de Aprendizaje\n",
        "\n",
        "Alumnado\n",
        "*   Axel Antonio González Uribe  1910244 IMTC\n",
        "*   Aldo Elian Guajardo Garza 1896665 IMTC\n",
        "*   Carlos Eduardo Juárez Ortiz 1906955 IMTC\n",
        "*   Ramiro Daniel González Rodríguez 1929079 IMTC\n",
        "*   Alejandro Humberto Hernández Casas 1894925 IMTC\n",
        "*   Kevin Orlando Huerta Jaramillo  1854324 IMTC\n",
        "\n",
        "\n",
        "\n",
        "\n",
        "\n"
      ],
      "metadata": {
        "id": "_UVf64WeuBIM"
      }
    },
    {
      "cell_type": "markdown",
      "source": [
        "## Librerías\n",
        "\n",
        "\n"
      ],
      "metadata": {
        "id": "qOY9gQlxuA9n"
      }
    },
    {
      "cell_type": "code",
      "execution_count": 2,
      "metadata": {
        "id": "9dGWAArgXO2K",
        "colab": {
          "base_uri": "https://localhost:8080/"
        },
        "outputId": "428a7d79-49bd-479d-e959-4f505ade99f5"
      },
      "outputs": [
        {
          "output_type": "stream",
          "name": "stdout",
          "text": [
            "Mounted at /content/drive\n"
          ]
        }
      ],
      "source": [
        "import os\n",
        "import glob\n",
        "import cv2\n",
        "import tensorflow as tf\n",
        "from tensorflow import keras\n",
        "from tensorflow.keras import datasets, layers, models\n",
        "import matplotlib.pyplot as plt\n",
        "from sklearn.model_selection import train_test_split\n",
        "import numpy as npy\n",
        "from tensorflow import keras\n",
        "from google.colab import drive\n",
        "drive.mount('/content/drive')"
      ]
    },
    {
      "cell_type": "code",
      "source": [
        "imagenes_dataset = []\n",
        "etiquetas_data = []"
      ],
      "metadata": {
        "id": "2r-OwJKdZV6t"
      },
      "execution_count": 3,
      "outputs": []
    },
    {
      "cell_type": "code",
      "source": [
        "file = '/content/drive/MyDrive/Numeros IA/N0' \n",
        "\n",
        "num = 0\n",
        "\n",
        "for x in glob.iglob(f'{file}/*.png'):\n",
        "  #plt.imshow(x, cmap='gray')\n",
        "  print(x)\n",
        "  test_image = cv2.imread(x, cv2.IMREAD_GRAYSCALE )\n",
        "\n",
        "  # Formato de imagen\n",
        "  img_resized = cv2.resize(test_image, (28,28), )\n",
        "  img_resized = cv2.bitwise_not(img_resized)\n",
        "\n",
        "  # Guardar imagenes y etiquetas\n",
        "  imagenes_dataset.append(img_resized)\n",
        "  etiquetas_data.append(num)"
      ],
      "metadata": {
        "id": "vi0bXoy5ZXeT",
        "colab": {
          "base_uri": "https://localhost:8080/"
        },
        "outputId": "d64cae13-aafa-4ad3-e00f-4bf3ab7585ab"
      },
      "execution_count": 4,
      "outputs": [
        {
          "output_type": "stream",
          "name": "stdout",
          "text": [
            "/content/drive/MyDrive/Numeros IA/N0/0 (32).png\n",
            "/content/drive/MyDrive/Numeros IA/N0/0 (33).png\n",
            "/content/drive/MyDrive/Numeros IA/N0/0 (34).png\n",
            "/content/drive/MyDrive/Numeros IA/N0/0 (35).png\n",
            "/content/drive/MyDrive/Numeros IA/N0/0 (36).png\n",
            "/content/drive/MyDrive/Numeros IA/N0/0 (37).png\n",
            "/content/drive/MyDrive/Numeros IA/N0/0 (38).png\n",
            "/content/drive/MyDrive/Numeros IA/N0/0 (39).png\n",
            "/content/drive/MyDrive/Numeros IA/N0/0 (40).png\n",
            "/content/drive/MyDrive/Numeros IA/N0/0 (41).png\n",
            "/content/drive/MyDrive/Numeros IA/N0/0 (13).png\n",
            "/content/drive/MyDrive/Numeros IA/N0/0 (12).png\n",
            "/content/drive/MyDrive/Numeros IA/N0/0 (23).png\n",
            "/content/drive/MyDrive/Numeros IA/N0/0 (24).png\n",
            "/content/drive/MyDrive/Numeros IA/N0/0 (25).png\n",
            "/content/drive/MyDrive/Numeros IA/N0/0 (26).png\n",
            "/content/drive/MyDrive/Numeros IA/N0/0 (27).png\n",
            "/content/drive/MyDrive/Numeros IA/N0/0 (28).png\n",
            "/content/drive/MyDrive/Numeros IA/N0/0 (29).png\n",
            "/content/drive/MyDrive/Numeros IA/N0/0 (30).png\n",
            "/content/drive/MyDrive/Numeros IA/N0/0 (31).png\n",
            "/content/drive/MyDrive/Numeros IA/N0/0 (14).png\n",
            "/content/drive/MyDrive/Numeros IA/N0/0 (15).png\n",
            "/content/drive/MyDrive/Numeros IA/N0/0 (16).png\n",
            "/content/drive/MyDrive/Numeros IA/N0/0 (17).png\n",
            "/content/drive/MyDrive/Numeros IA/N0/0 (18).png\n",
            "/content/drive/MyDrive/Numeros IA/N0/0 (19).png\n",
            "/content/drive/MyDrive/Numeros IA/N0/0 (20).png\n",
            "/content/drive/MyDrive/Numeros IA/N0/0 (21).png\n",
            "/content/drive/MyDrive/Numeros IA/N0/0 (22).png\n",
            "/content/drive/MyDrive/Numeros IA/N0/0 (1).png\n",
            "/content/drive/MyDrive/Numeros IA/N0/0 (52).png\n",
            "/content/drive/MyDrive/Numeros IA/N0/0 (53).png\n",
            "/content/drive/MyDrive/Numeros IA/N0/0 (54).png\n",
            "/content/drive/MyDrive/Numeros IA/N0/0 (55).png\n",
            "/content/drive/MyDrive/Numeros IA/N0/0 (56).png\n",
            "/content/drive/MyDrive/Numeros IA/N0/0 (57).png\n",
            "/content/drive/MyDrive/Numeros IA/N0/0 (58).png\n",
            "/content/drive/MyDrive/Numeros IA/N0/0 (59).png\n",
            "/content/drive/MyDrive/Numeros IA/N0/0 (60).png\n",
            "/content/drive/MyDrive/Numeros IA/N0/0 (2).png\n",
            "/content/drive/MyDrive/Numeros IA/N0/0 (3).png\n",
            "/content/drive/MyDrive/Numeros IA/N0/0 (4).png\n",
            "/content/drive/MyDrive/Numeros IA/N0/0 (5).png\n",
            "/content/drive/MyDrive/Numeros IA/N0/0 (6).png\n",
            "/content/drive/MyDrive/Numeros IA/N0/0 (7).png\n",
            "/content/drive/MyDrive/Numeros IA/N0/0 (8).png\n",
            "/content/drive/MyDrive/Numeros IA/N0/0 (9).png\n",
            "/content/drive/MyDrive/Numeros IA/N0/0 (10).png\n",
            "/content/drive/MyDrive/Numeros IA/N0/0 (11).png\n",
            "/content/drive/MyDrive/Numeros IA/N0/0 (42).png\n",
            "/content/drive/MyDrive/Numeros IA/N0/0 (43).png\n",
            "/content/drive/MyDrive/Numeros IA/N0/0 (44).png\n",
            "/content/drive/MyDrive/Numeros IA/N0/0 (45).png\n",
            "/content/drive/MyDrive/Numeros IA/N0/0 (46).png\n",
            "/content/drive/MyDrive/Numeros IA/N0/0 (47).png\n",
            "/content/drive/MyDrive/Numeros IA/N0/0 (48).png\n",
            "/content/drive/MyDrive/Numeros IA/N0/0 (49).png\n",
            "/content/drive/MyDrive/Numeros IA/N0/0 (50).png\n",
            "/content/drive/MyDrive/Numeros IA/N0/0 (51).png\n"
          ]
        }
      ]
    },
    {
      "cell_type": "code",
      "source": [
        "file = '/content/drive/MyDrive/Numeros IA/N1' \n",
        "\n",
        "num = 1\n",
        "\n",
        "for x in glob.iglob(f'{file}/*.png'):\n",
        "  #plt.imshow(x, cmap='gray')\n",
        "  print(x)\n",
        "  test_image = cv2.imread(x, cv2.IMREAD_GRAYSCALE )\n",
        "\n",
        "  # Formato de imagen\n",
        "  img_resized = cv2.resize(test_image, (28,28), )\n",
        "  img_resized = cv2.bitwise_not(img_resized)\n",
        "\n",
        "  # Guardar imagenes y etiquetas\n",
        "  imagenes_dataset.append(img_resized)\n",
        "  etiquetas_data.append(num)"
      ],
      "metadata": {
        "id": "1i0xC7mVeN_8",
        "colab": {
          "base_uri": "https://localhost:8080/"
        },
        "outputId": "894df4c0-38cd-4c7a-ce49-4ff4d3069a31"
      },
      "execution_count": 5,
      "outputs": [
        {
          "output_type": "stream",
          "name": "stdout",
          "text": [
            "/content/drive/MyDrive/Numeros IA/N1/1 (10).png\n",
            "/content/drive/MyDrive/Numeros IA/N1/1 (11).png\n",
            "/content/drive/MyDrive/Numeros IA/N1/1 (12).png\n",
            "/content/drive/MyDrive/Numeros IA/N1/1 (13).png\n",
            "/content/drive/MyDrive/Numeros IA/N1/1 (14).png\n",
            "/content/drive/MyDrive/Numeros IA/N1/1 (15).png\n",
            "/content/drive/MyDrive/Numeros IA/N1/1 (16).png\n",
            "/content/drive/MyDrive/Numeros IA/N1/1 (17).png\n",
            "/content/drive/MyDrive/Numeros IA/N1/1 (18).png\n",
            "/content/drive/MyDrive/Numeros IA/N1/1 (38).png\n",
            "/content/drive/MyDrive/Numeros IA/N1/1 (39).png\n",
            "/content/drive/MyDrive/Numeros IA/N1/1 (40).png\n",
            "/content/drive/MyDrive/Numeros IA/N1/1 (41).png\n",
            "/content/drive/MyDrive/Numeros IA/N1/1 (21).png\n",
            "/content/drive/MyDrive/Numeros IA/N1/1 (22).png\n",
            "/content/drive/MyDrive/Numeros IA/N1/1 (24).png\n",
            "/content/drive/MyDrive/Numeros IA/N1/1 (25).png\n",
            "/content/drive/MyDrive/Numeros IA/N1/1 (26).png\n",
            "/content/drive/MyDrive/Numeros IA/N1/1 (27).png\n",
            "/content/drive/MyDrive/Numeros IA/N1/1 (28).png\n",
            "/content/drive/MyDrive/Numeros IA/N1/1 (29).png\n",
            "/content/drive/MyDrive/Numeros IA/N1/1 (30).png\n",
            "/content/drive/MyDrive/Numeros IA/N1/1 (31).png\n",
            "/content/drive/MyDrive/Numeros IA/N1/1 (9).png\n",
            "/content/drive/MyDrive/Numeros IA/N1/1 (34).png\n",
            "/content/drive/MyDrive/Numeros IA/N1/1 (35).png\n",
            "/content/drive/MyDrive/Numeros IA/N1/1 (36).png\n",
            "/content/drive/MyDrive/Numeros IA/N1/1 (37).png\n",
            "/content/drive/MyDrive/Numeros IA/N1/1 (19).png\n",
            "/content/drive/MyDrive/Numeros IA/N1/1 (20).png\n",
            "/content/drive/MyDrive/Numeros IA/N1/1 (23).png\n",
            "/content/drive/MyDrive/Numeros IA/N1/1 (32).png\n",
            "/content/drive/MyDrive/Numeros IA/N1/1 (33).png\n",
            "/content/drive/MyDrive/Numeros IA/N1/1 (42).png\n",
            "/content/drive/MyDrive/Numeros IA/N1/1 (43).png\n",
            "/content/drive/MyDrive/Numeros IA/N1/1 (44).png\n",
            "/content/drive/MyDrive/Numeros IA/N1/1 (45).png\n",
            "/content/drive/MyDrive/Numeros IA/N1/1 (46).png\n",
            "/content/drive/MyDrive/Numeros IA/N1/1 (47).png\n",
            "/content/drive/MyDrive/Numeros IA/N1/1 (48).png\n",
            "/content/drive/MyDrive/Numeros IA/N1/1 (49).png\n",
            "/content/drive/MyDrive/Numeros IA/N1/1 (50).png\n",
            "/content/drive/MyDrive/Numeros IA/N1/1 (51).png\n",
            "/content/drive/MyDrive/Numeros IA/N1/1 (52).png\n",
            "/content/drive/MyDrive/Numeros IA/N1/1 (1).png\n",
            "/content/drive/MyDrive/Numeros IA/N1/1 (2).png\n",
            "/content/drive/MyDrive/Numeros IA/N1/1 (3).png\n",
            "/content/drive/MyDrive/Numeros IA/N1/1 (4).png\n",
            "/content/drive/MyDrive/Numeros IA/N1/1 (5).png\n",
            "/content/drive/MyDrive/Numeros IA/N1/1 (6).png\n",
            "/content/drive/MyDrive/Numeros IA/N1/1 (7).png\n",
            "/content/drive/MyDrive/Numeros IA/N1/1 (8).png\n",
            "/content/drive/MyDrive/Numeros IA/N1/1 (53).png\n",
            "/content/drive/MyDrive/Numeros IA/N1/1 (54).png\n",
            "/content/drive/MyDrive/Numeros IA/N1/1 (55).png\n",
            "/content/drive/MyDrive/Numeros IA/N1/1 (56).png\n",
            "/content/drive/MyDrive/Numeros IA/N1/1 (57).png\n",
            "/content/drive/MyDrive/Numeros IA/N1/1 (58).png\n",
            "/content/drive/MyDrive/Numeros IA/N1/1 (59).png\n",
            "/content/drive/MyDrive/Numeros IA/N1/1 (60).png\n"
          ]
        }
      ]
    },
    {
      "cell_type": "code",
      "source": [
        "file = '/content/drive/MyDrive/Numeros IA/N2' \n",
        "\n",
        "num = 2\n",
        "\n",
        "for x in glob.iglob(f'{file}/*.png'):\n",
        "  #plt.imshow(x, cmap='gray')\n",
        "  print(x)\n",
        "  test_image = cv2.imread(x, cv2.IMREAD_GRAYSCALE )\n",
        "\n",
        "  # Formato de imagen\n",
        "  img_resized = cv2.resize(test_image, (28,28), )\n",
        "  img_resized = cv2.bitwise_not(img_resized)\n",
        "\n",
        "  # Guardar imagenes y etiquetas\n",
        "  imagenes_dataset.append(img_resized)\n",
        "  etiquetas_data.append(num)"
      ],
      "metadata": {
        "id": "1Oxz-gnfeN1V",
        "colab": {
          "base_uri": "https://localhost:8080/"
        },
        "outputId": "44492f01-9cb1-4db7-ac7b-efb8c9f8d78e"
      },
      "execution_count": 6,
      "outputs": [
        {
          "output_type": "stream",
          "name": "stdout",
          "text": [
            "/content/drive/MyDrive/Numeros IA/N2/2 (31).png\n",
            "/content/drive/MyDrive/Numeros IA/N2/2 (32).png\n",
            "/content/drive/MyDrive/Numeros IA/N2/2 (33).png\n",
            "/content/drive/MyDrive/Numeros IA/N2/2 (34).png\n",
            "/content/drive/MyDrive/Numeros IA/N2/2 (35).png\n",
            "/content/drive/MyDrive/Numeros IA/N2/2 (36).png\n",
            "/content/drive/MyDrive/Numeros IA/N2/2 (37).png\n",
            "/content/drive/MyDrive/Numeros IA/N2/2 (38).png\n",
            "/content/drive/MyDrive/Numeros IA/N2/2 (39).png\n",
            "/content/drive/MyDrive/Numeros IA/N2/2 (40).png\n",
            "/content/drive/MyDrive/Numeros IA/N2/2 (21).png\n",
            "/content/drive/MyDrive/Numeros IA/N2/2 (22).png\n",
            "/content/drive/MyDrive/Numeros IA/N2/2 (23).png\n",
            "/content/drive/MyDrive/Numeros IA/N2/2 (24).png\n",
            "/content/drive/MyDrive/Numeros IA/N2/2 (25).png\n",
            "/content/drive/MyDrive/Numeros IA/N2/2 (26).png\n",
            "/content/drive/MyDrive/Numeros IA/N2/2 (27).png\n",
            "/content/drive/MyDrive/Numeros IA/N2/2 (28).png\n",
            "/content/drive/MyDrive/Numeros IA/N2/2 (29).png\n",
            "/content/drive/MyDrive/Numeros IA/N2/2 (30).png\n",
            "/content/drive/MyDrive/Numeros IA/N2/2 (11).png\n",
            "/content/drive/MyDrive/Numeros IA/N2/2 (12).png\n",
            "/content/drive/MyDrive/Numeros IA/N2/2 (13).png\n",
            "/content/drive/MyDrive/Numeros IA/N2/2 (14).png\n",
            "/content/drive/MyDrive/Numeros IA/N2/2 (15).png\n",
            "/content/drive/MyDrive/Numeros IA/N2/2 (16).png\n",
            "/content/drive/MyDrive/Numeros IA/N2/2 (17).png\n",
            "/content/drive/MyDrive/Numeros IA/N2/2 (18).png\n",
            "/content/drive/MyDrive/Numeros IA/N2/2 (19).png\n",
            "/content/drive/MyDrive/Numeros IA/N2/2 (20).png\n",
            "/content/drive/MyDrive/Numeros IA/N2/2 (43).png\n",
            "/content/drive/MyDrive/Numeros IA/N2/2 (44).png\n",
            "/content/drive/MyDrive/Numeros IA/N2/2 (45).png\n",
            "/content/drive/MyDrive/Numeros IA/N2/2 (47).png\n",
            "/content/drive/MyDrive/Numeros IA/N2/2 (48).png\n",
            "/content/drive/MyDrive/Numeros IA/N2/2 (49).png\n",
            "/content/drive/MyDrive/Numeros IA/N2/2 (50).png\n",
            "/content/drive/MyDrive/Numeros IA/N2/2 (51).png\n",
            "/content/drive/MyDrive/Numeros IA/N2/2 (52).png\n",
            "/content/drive/MyDrive/Numeros IA/N2/2 (53).png\n",
            "/content/drive/MyDrive/Numeros IA/N2/2 (1).png\n",
            "/content/drive/MyDrive/Numeros IA/N2/2 (2).png\n",
            "/content/drive/MyDrive/Numeros IA/N2/2 (3).png\n",
            "/content/drive/MyDrive/Numeros IA/N2/2 (4).png\n",
            "/content/drive/MyDrive/Numeros IA/N2/2 (5).png\n",
            "/content/drive/MyDrive/Numeros IA/N2/2 (7).png\n",
            "/content/drive/MyDrive/Numeros IA/N2/2 (6).png\n",
            "/content/drive/MyDrive/Numeros IA/N2/2 (8).png\n",
            "/content/drive/MyDrive/Numeros IA/N2/2 (9).png\n",
            "/content/drive/MyDrive/Numeros IA/N2/2 (10).png\n",
            "/content/drive/MyDrive/Numeros IA/N2/2 (41).png\n",
            "/content/drive/MyDrive/Numeros IA/N2/2 (42).png\n",
            "/content/drive/MyDrive/Numeros IA/N2/2 (46).png\n",
            "/content/drive/MyDrive/Numeros IA/N2/2 (54).png\n",
            "/content/drive/MyDrive/Numeros IA/N2/2 (55).png\n",
            "/content/drive/MyDrive/Numeros IA/N2/2 (56).png\n",
            "/content/drive/MyDrive/Numeros IA/N2/2 (57).png\n",
            "/content/drive/MyDrive/Numeros IA/N2/2 (58).png\n",
            "/content/drive/MyDrive/Numeros IA/N2/2 (59).png\n",
            "/content/drive/MyDrive/Numeros IA/N2/2 (60).png\n"
          ]
        }
      ]
    },
    {
      "cell_type": "code",
      "source": [
        "file = '/content/drive/MyDrive/Numeros IA/N3' \n",
        "\n",
        "num = 3\n",
        "\n",
        "for x in glob.iglob(f'{file}/*.png'):\n",
        "  #plt.imshow(x, cmap='gray')\n",
        "  print(x)\n",
        "  test_image = cv2.imread(x, cv2.IMREAD_GRAYSCALE )\n",
        "\n",
        "  # Formato de imagen\n",
        "  img_resized = cv2.resize(test_image, (28,28), )\n",
        "  img_resized = cv2.bitwise_not(img_resized)\n",
        "\n",
        "  # Guardar imagenes y etiquetas\n",
        "  imagenes_dataset.append(img_resized)\n",
        "  etiquetas_data.append(num)"
      ],
      "metadata": {
        "id": "1Qn70BuGeNuf",
        "colab": {
          "base_uri": "https://localhost:8080/"
        },
        "outputId": "460f3cbe-0db7-4e3a-e4e3-3fa7da666615"
      },
      "execution_count": 7,
      "outputs": [
        {
          "output_type": "stream",
          "name": "stdout",
          "text": [
            "/content/drive/MyDrive/Numeros IA/N3/3 (31).png\n",
            "/content/drive/MyDrive/Numeros IA/N3/3 (32).png\n",
            "/content/drive/MyDrive/Numeros IA/N3/3 (33).png\n",
            "/content/drive/MyDrive/Numeros IA/N3/3 (34).png\n",
            "/content/drive/MyDrive/Numeros IA/N3/3 (35).png\n",
            "/content/drive/MyDrive/Numeros IA/N3/3 (36).png\n",
            "/content/drive/MyDrive/Numeros IA/N3/3 (37).png\n",
            "/content/drive/MyDrive/Numeros IA/N3/3 (38).png\n",
            "/content/drive/MyDrive/Numeros IA/N3/3 (39).png\n",
            "/content/drive/MyDrive/Numeros IA/N3/3 (40).png\n",
            "/content/drive/MyDrive/Numeros IA/N3/3 (21).png\n",
            "/content/drive/MyDrive/Numeros IA/N3/3 (22).png\n",
            "/content/drive/MyDrive/Numeros IA/N3/3 (23).png\n",
            "/content/drive/MyDrive/Numeros IA/N3/3 (24).png\n",
            "/content/drive/MyDrive/Numeros IA/N3/3 (25).png\n",
            "/content/drive/MyDrive/Numeros IA/N3/3 (26).png\n",
            "/content/drive/MyDrive/Numeros IA/N3/3 (27).png\n",
            "/content/drive/MyDrive/Numeros IA/N3/3 (28).png\n",
            "/content/drive/MyDrive/Numeros IA/N3/3 (29).png\n",
            "/content/drive/MyDrive/Numeros IA/N3/3 (30).png\n",
            "/content/drive/MyDrive/Numeros IA/N3/3 (11).png\n",
            "/content/drive/MyDrive/Numeros IA/N3/3 (12).png\n",
            "/content/drive/MyDrive/Numeros IA/N3/3 (13).png\n",
            "/content/drive/MyDrive/Numeros IA/N3/3 (14).png\n",
            "/content/drive/MyDrive/Numeros IA/N3/3 (15).png\n",
            "/content/drive/MyDrive/Numeros IA/N3/3 (16).png\n",
            "/content/drive/MyDrive/Numeros IA/N3/3 (17).png\n",
            "/content/drive/MyDrive/Numeros IA/N3/3 (18).png\n",
            "/content/drive/MyDrive/Numeros IA/N3/3 (19).png\n",
            "/content/drive/MyDrive/Numeros IA/N3/3 (20).png\n",
            "/content/drive/MyDrive/Numeros IA/N3/3 (51).png\n",
            "/content/drive/MyDrive/Numeros IA/N3/3 (52).png\n",
            "/content/drive/MyDrive/Numeros IA/N3/3 (53).png\n",
            "/content/drive/MyDrive/Numeros IA/N3/3 (54).png\n",
            "/content/drive/MyDrive/Numeros IA/N3/3 (55).png\n",
            "/content/drive/MyDrive/Numeros IA/N3/3 (56).png\n",
            "/content/drive/MyDrive/Numeros IA/N3/3 (57).png\n",
            "/content/drive/MyDrive/Numeros IA/N3/3 (58).png\n",
            "/content/drive/MyDrive/Numeros IA/N3/3 (59).png\n",
            "/content/drive/MyDrive/Numeros IA/N3/3 (60).png\n",
            "/content/drive/MyDrive/Numeros IA/N3/3 (1).png\n",
            "/content/drive/MyDrive/Numeros IA/N3/3 (2).png\n",
            "/content/drive/MyDrive/Numeros IA/N3/3 (3).png\n",
            "/content/drive/MyDrive/Numeros IA/N3/3 (4).png\n",
            "/content/drive/MyDrive/Numeros IA/N3/3 (5).png\n",
            "/content/drive/MyDrive/Numeros IA/N3/3 (6).png\n",
            "/content/drive/MyDrive/Numeros IA/N3/3 (7).png\n",
            "/content/drive/MyDrive/Numeros IA/N3/3 (8).png\n",
            "/content/drive/MyDrive/Numeros IA/N3/3 (9).png\n",
            "/content/drive/MyDrive/Numeros IA/N3/3 (10).png\n",
            "/content/drive/MyDrive/Numeros IA/N3/3 (41).png\n",
            "/content/drive/MyDrive/Numeros IA/N3/3 (43).png\n",
            "/content/drive/MyDrive/Numeros IA/N3/3 (44).png\n",
            "/content/drive/MyDrive/Numeros IA/N3/3 (45).png\n",
            "/content/drive/MyDrive/Numeros IA/N3/3 (46).png\n",
            "/content/drive/MyDrive/Numeros IA/N3/3 (47).png\n",
            "/content/drive/MyDrive/Numeros IA/N3/3 (48).png\n",
            "/content/drive/MyDrive/Numeros IA/N3/3 (49).png\n",
            "/content/drive/MyDrive/Numeros IA/N3/3 (50).png\n",
            "/content/drive/MyDrive/Numeros IA/N3/3 (42).png\n"
          ]
        }
      ]
    },
    {
      "cell_type": "code",
      "source": [
        "file = '/content/drive/MyDrive/Numeros IA/N4' \n",
        "\n",
        "num = 4\n",
        "\n",
        "for x in glob.iglob(f'{file}/*.png'):\n",
        "  #plt.imshow(x, cmap='gray')\n",
        "  print(x)\n",
        "  test_image = cv2.imread(x, cv2.IMREAD_GRAYSCALE )\n",
        "\n",
        "  # Formato de imagen\n",
        "  img_resized = cv2.resize(test_image, (28,28), )\n",
        "  img_resized = cv2.bitwise_not(img_resized)\n",
        "\n",
        "  # Guardar imagenes y etiquetas\n",
        "  imagenes_dataset.append(img_resized)\n",
        "  etiquetas_data.append(num)"
      ],
      "metadata": {
        "id": "b67-d_VleNoe",
        "colab": {
          "base_uri": "https://localhost:8080/"
        },
        "outputId": "62638f66-2634-4545-8578-4ffd76a5f923"
      },
      "execution_count": 8,
      "outputs": [
        {
          "output_type": "stream",
          "name": "stdout",
          "text": [
            "/content/drive/MyDrive/Numeros IA/N4/4 (26).png\n",
            "/content/drive/MyDrive/Numeros IA/N4/4 (27).png\n",
            "/content/drive/MyDrive/Numeros IA/N4/4 (28).png\n",
            "/content/drive/MyDrive/Numeros IA/N4/4 (29).png\n",
            "/content/drive/MyDrive/Numeros IA/N4/4 (30).png\n",
            "/content/drive/MyDrive/Numeros IA/N4/4 (31).png\n",
            "/content/drive/MyDrive/Numeros IA/N4/4 (32).png\n",
            "/content/drive/MyDrive/Numeros IA/N4/4 (33).png\n",
            "/content/drive/MyDrive/Numeros IA/N4/4 (34).png\n",
            "/content/drive/MyDrive/Numeros IA/N4/4 (35).png\n",
            "/content/drive/MyDrive/Numeros IA/N4/4 (16).png\n",
            "/content/drive/MyDrive/Numeros IA/N4/4 (17).png\n",
            "/content/drive/MyDrive/Numeros IA/N4/4 (18).png\n",
            "/content/drive/MyDrive/Numeros IA/N4/4 (19).png\n",
            "/content/drive/MyDrive/Numeros IA/N4/4 (20).png\n",
            "/content/drive/MyDrive/Numeros IA/N4/4 (21).png\n",
            "/content/drive/MyDrive/Numeros IA/N4/4 (22).png\n",
            "/content/drive/MyDrive/Numeros IA/N4/4 (23).png\n",
            "/content/drive/MyDrive/Numeros IA/N4/4 (24).png\n",
            "/content/drive/MyDrive/Numeros IA/N4/4 (25).png\n",
            "/content/drive/MyDrive/Numeros IA/N4/4 (36).png\n",
            "/content/drive/MyDrive/Numeros IA/N4/4 (37).png\n",
            "/content/drive/MyDrive/Numeros IA/N4/4 (38).png\n",
            "/content/drive/MyDrive/Numeros IA/N4/4 (39).png\n",
            "/content/drive/MyDrive/Numeros IA/N4/4 (40).png\n",
            "/content/drive/MyDrive/Numeros IA/N4/4 (11).png\n",
            "/content/drive/MyDrive/Numeros IA/N4/4 (12).png\n",
            "/content/drive/MyDrive/Numeros IA/N4/4 (13).png\n",
            "/content/drive/MyDrive/Numeros IA/N4/4 (14).png\n",
            "/content/drive/MyDrive/Numeros IA/N4/4 (15).png\n",
            "/content/drive/MyDrive/Numeros IA/N4/4 (50).png\n",
            "/content/drive/MyDrive/Numeros IA/N4/4 (51).png\n",
            "/content/drive/MyDrive/Numeros IA/N4/4 (52).png\n",
            "/content/drive/MyDrive/Numeros IA/N4/4 (53).png\n",
            "/content/drive/MyDrive/Numeros IA/N4/4 (54).png\n",
            "/content/drive/MyDrive/Numeros IA/N4/4 (55).png\n",
            "/content/drive/MyDrive/Numeros IA/N4/4 (56).png\n",
            "/content/drive/MyDrive/Numeros IA/N4/4 (1).png\n",
            "/content/drive/MyDrive/Numeros IA/N4/4 (57).png\n",
            "/content/drive/MyDrive/Numeros IA/N4/4 (2).png\n",
            "/content/drive/MyDrive/Numeros IA/N4/4 (3).png\n",
            "/content/drive/MyDrive/Numeros IA/N4/4 (58).png\n",
            "/content/drive/MyDrive/Numeros IA/N4/4 (4).png\n",
            "/content/drive/MyDrive/Numeros IA/N4/4 (59).png\n",
            "/content/drive/MyDrive/Numeros IA/N4/4 (5).png\n",
            "/content/drive/MyDrive/Numeros IA/N4/4 (6).png\n",
            "/content/drive/MyDrive/Numeros IA/N4/4 (7).png\n",
            "/content/drive/MyDrive/Numeros IA/N4/4 (8).png\n",
            "/content/drive/MyDrive/Numeros IA/N4/4 (9).png\n",
            "/content/drive/MyDrive/Numeros IA/N4/4 (10).png\n",
            "/content/drive/MyDrive/Numeros IA/N4/4 (41).png\n",
            "/content/drive/MyDrive/Numeros IA/N4/4 (42).png\n",
            "/content/drive/MyDrive/Numeros IA/N4/4 (43).png\n",
            "/content/drive/MyDrive/Numeros IA/N4/4 (44).png\n",
            "/content/drive/MyDrive/Numeros IA/N4/4 (45).png\n",
            "/content/drive/MyDrive/Numeros IA/N4/4 (46).png\n",
            "/content/drive/MyDrive/Numeros IA/N4/4 (47).png\n",
            "/content/drive/MyDrive/Numeros IA/N4/4 (48).png\n",
            "/content/drive/MyDrive/Numeros IA/N4/4 (60).png\n",
            "/content/drive/MyDrive/Numeros IA/N4/4 (49).png\n"
          ]
        }
      ]
    },
    {
      "cell_type": "code",
      "source": [
        "file = '/content/drive/MyDrive/Numeros IA/N5' \n",
        "\n",
        "num = 5\n",
        "\n",
        "for x in glob.iglob(f'{file}/*.png'):\n",
        "  #plt.imshow(x, cmap='gray')\n",
        "  print(x)\n",
        "  test_image = cv2.imread(x, cv2.IMREAD_GRAYSCALE )\n",
        "\n",
        "  # Formato de imagen\n",
        "  img_resized = cv2.resize(test_image, (28,28), )\n",
        "  img_resized = cv2.bitwise_not(img_resized)\n",
        "\n",
        "  # Guardar imagenes y etiquetas\n",
        "  imagenes_dataset.append(img_resized)\n",
        "  etiquetas_data.append(num)"
      ],
      "metadata": {
        "id": "oR21Y_SweNiE",
        "colab": {
          "base_uri": "https://localhost:8080/"
        },
        "outputId": "7f3b2ef9-fe1a-4417-ad8d-54fab5259be3"
      },
      "execution_count": 9,
      "outputs": [
        {
          "output_type": "stream",
          "name": "stdout",
          "text": [
            "/content/drive/MyDrive/Numeros IA/N5/5 (39).png\n",
            "/content/drive/MyDrive/Numeros IA/N5/5 (40).png\n",
            "/content/drive/MyDrive/Numeros IA/N5/5 (41).png\n",
            "/content/drive/MyDrive/Numeros IA/N5/5 (42).png\n",
            "/content/drive/MyDrive/Numeros IA/N5/5 (13).png\n",
            "/content/drive/MyDrive/Numeros IA/N5/5 (14).png\n",
            "/content/drive/MyDrive/Numeros IA/N5/5 (15).png\n",
            "/content/drive/MyDrive/Numeros IA/N5/5 (16).png\n",
            "/content/drive/MyDrive/Numeros IA/N5/5 (17).png\n",
            "/content/drive/MyDrive/Numeros IA/N5/5 (18).png\n",
            "/content/drive/MyDrive/Numeros IA/N5/5 (29).png\n",
            "/content/drive/MyDrive/Numeros IA/N5/5 (30).png\n",
            "/content/drive/MyDrive/Numeros IA/N5/5 (31).png\n",
            "/content/drive/MyDrive/Numeros IA/N5/5 (32).png\n",
            "/content/drive/MyDrive/Numeros IA/N5/5 (33).png\n",
            "/content/drive/MyDrive/Numeros IA/N5/5 (34).png\n",
            "/content/drive/MyDrive/Numeros IA/N5/5 (35).png\n",
            "/content/drive/MyDrive/Numeros IA/N5/5 (36).png\n",
            "/content/drive/MyDrive/Numeros IA/N5/5 (37).png\n",
            "/content/drive/MyDrive/Numeros IA/N5/5 (38).png\n",
            "/content/drive/MyDrive/Numeros IA/N5/5 (19).png\n",
            "/content/drive/MyDrive/Numeros IA/N5/5 (20).png\n",
            "/content/drive/MyDrive/Numeros IA/N5/5 (21).png\n",
            "/content/drive/MyDrive/Numeros IA/N5/5 (22).png\n",
            "/content/drive/MyDrive/Numeros IA/N5/5 (23).png\n",
            "/content/drive/MyDrive/Numeros IA/N5/5 (24).png\n",
            "/content/drive/MyDrive/Numeros IA/N5/5 (25).png\n",
            "/content/drive/MyDrive/Numeros IA/N5/5 (26).png\n",
            "/content/drive/MyDrive/Numeros IA/N5/5 (27).png\n",
            "/content/drive/MyDrive/Numeros IA/N5/5 (28).png\n",
            "/content/drive/MyDrive/Numeros IA/N5/5 (51).png\n",
            "/content/drive/MyDrive/Numeros IA/N5/5 (52).png\n",
            "/content/drive/MyDrive/Numeros IA/N5/5 (53).png\n",
            "/content/drive/MyDrive/Numeros IA/N5/5 (54).png\n",
            "/content/drive/MyDrive/Numeros IA/N5/5 (3).png\n",
            "/content/drive/MyDrive/Numeros IA/N5/5 (55).png\n",
            "/content/drive/MyDrive/Numeros IA/N5/5 (4).png\n",
            "/content/drive/MyDrive/Numeros IA/N5/5 (56).png\n",
            "/content/drive/MyDrive/Numeros IA/N5/5 (5).png\n",
            "/content/drive/MyDrive/Numeros IA/N5/5 (57).png\n",
            "/content/drive/MyDrive/Numeros IA/N5/5 (6).png\n",
            "/content/drive/MyDrive/Numeros IA/N5/5 (58).png\n",
            "/content/drive/MyDrive/Numeros IA/N5/5 (7).png\n",
            "/content/drive/MyDrive/Numeros IA/N5/5 (59).png\n",
            "/content/drive/MyDrive/Numeros IA/N5/5 (8).png\n",
            "/content/drive/MyDrive/Numeros IA/N5/5 (60).png\n",
            "/content/drive/MyDrive/Numeros IA/N5/5 (9).png\n",
            "/content/drive/MyDrive/Numeros IA/N5/5 (10).png\n",
            "/content/drive/MyDrive/Numeros IA/N5/5 (11).png\n",
            "/content/drive/MyDrive/Numeros IA/N5/5 (12).png\n",
            "/content/drive/MyDrive/Numeros IA/N5/5 (50).png\n",
            "/content/drive/MyDrive/Numeros IA/N5/5 (49).png\n",
            "/content/drive/MyDrive/Numeros IA/N5/5 (48).png\n",
            "/content/drive/MyDrive/Numeros IA/N5/5 (2).png\n",
            "/content/drive/MyDrive/Numeros IA/N5/5 (43).png\n",
            "/content/drive/MyDrive/Numeros IA/N5/5 (44).png\n",
            "/content/drive/MyDrive/Numeros IA/N5/5 (45).png\n",
            "/content/drive/MyDrive/Numeros IA/N5/5 (46).png\n",
            "/content/drive/MyDrive/Numeros IA/N5/5 (47).png\n",
            "/content/drive/MyDrive/Numeros IA/N5/5 (1).png\n"
          ]
        }
      ]
    },
    {
      "cell_type": "code",
      "source": [
        "file = '/content/drive/MyDrive/Numeros IA/N6' \n",
        "\n",
        "num = 6\n",
        "\n",
        "for x in glob.iglob(f'{file}/*.png'):\n",
        "  #plt.imshow(x, cmap='gray')\n",
        "  print(x)\n",
        "  test_image = cv2.imread(x, cv2.IMREAD_GRAYSCALE )\n",
        "\n",
        "  # Formato de imagen\n",
        "  img_resized = cv2.resize(test_image, (28,28), )\n",
        "  img_resized = cv2.bitwise_not(img_resized)\n",
        "\n",
        "  # Guardar imagenes y etiquetas\n",
        "  imagenes_dataset.append(img_resized)\n",
        "  etiquetas_data.append(num)"
      ],
      "metadata": {
        "id": "WHBsFP76eNb0",
        "colab": {
          "base_uri": "https://localhost:8080/"
        },
        "outputId": "f7f77b4c-c731-4d88-cae4-84ba7ec9e2b7"
      },
      "execution_count": 10,
      "outputs": [
        {
          "output_type": "stream",
          "name": "stdout",
          "text": [
            "/content/drive/MyDrive/Numeros IA/N6/6 (32).png\n",
            "/content/drive/MyDrive/Numeros IA/N6/6 (33).png\n",
            "/content/drive/MyDrive/Numeros IA/N6/6 (34).png\n",
            "/content/drive/MyDrive/Numeros IA/N6/6 (35).png\n",
            "/content/drive/MyDrive/Numeros IA/N6/6 (36).png\n",
            "/content/drive/MyDrive/Numeros IA/N6/6 (37).png\n",
            "/content/drive/MyDrive/Numeros IA/N6/6 (38).png\n",
            "/content/drive/MyDrive/Numeros IA/N6/6 (39).png\n",
            "/content/drive/MyDrive/Numeros IA/N6/6 (40).png\n",
            "/content/drive/MyDrive/Numeros IA/N6/6 (41).png\n",
            "/content/drive/MyDrive/Numeros IA/N6/6 (22).png\n",
            "/content/drive/MyDrive/Numeros IA/N6/6 (23).png\n",
            "/content/drive/MyDrive/Numeros IA/N6/6 (24).png\n",
            "/content/drive/MyDrive/Numeros IA/N6/6 (25).png\n",
            "/content/drive/MyDrive/Numeros IA/N6/6 (26).png\n",
            "/content/drive/MyDrive/Numeros IA/N6/6 (27).png\n",
            "/content/drive/MyDrive/Numeros IA/N6/6 (28).png\n",
            "/content/drive/MyDrive/Numeros IA/N6/6 (29).png\n",
            "/content/drive/MyDrive/Numeros IA/N6/6 (30).png\n",
            "/content/drive/MyDrive/Numeros IA/N6/6 (31).png\n",
            "/content/drive/MyDrive/Numeros IA/N6/6 (42).png\n",
            "/content/drive/MyDrive/Numeros IA/N6/6 (43).png\n",
            "/content/drive/MyDrive/Numeros IA/N6/6 (44).png\n",
            "/content/drive/MyDrive/Numeros IA/N6/6 (45).png\n",
            "/content/drive/MyDrive/Numeros IA/N6/6 (46).png\n",
            "/content/drive/MyDrive/Numeros IA/N6/6 (17).png\n",
            "/content/drive/MyDrive/Numeros IA/N6/6 (18).png\n",
            "/content/drive/MyDrive/Numeros IA/N6/6 (19).png\n",
            "/content/drive/MyDrive/Numeros IA/N6/6 (20).png\n",
            "/content/drive/MyDrive/Numeros IA/N6/6 (21).png\n",
            "/content/drive/MyDrive/Numeros IA/N6/6 (52).png\n",
            "/content/drive/MyDrive/Numeros IA/N6/6 (53).png\n",
            "/content/drive/MyDrive/Numeros IA/N6/6 (54).png\n",
            "/content/drive/MyDrive/Numeros IA/N6/6 (55).png\n",
            "/content/drive/MyDrive/Numeros IA/N6/6 (56).png\n",
            "/content/drive/MyDrive/Numeros IA/N6/6 (57).png\n",
            "/content/drive/MyDrive/Numeros IA/N6/6 (58).png\n",
            "/content/drive/MyDrive/Numeros IA/N6/6 (59).png\n",
            "/content/drive/MyDrive/Numeros IA/N6/6 (7).png\n",
            "/content/drive/MyDrive/Numeros IA/N6/6 (60).png\n",
            "/content/drive/MyDrive/Numeros IA/N6/6 (8).png\n",
            "/content/drive/MyDrive/Numeros IA/N6/6 (9).png\n",
            "/content/drive/MyDrive/Numeros IA/N6/6 (10).png\n",
            "/content/drive/MyDrive/Numeros IA/N6/6 (11).png\n",
            "/content/drive/MyDrive/Numeros IA/N6/6 (12).png\n",
            "/content/drive/MyDrive/Numeros IA/N6/6 (13).png\n",
            "/content/drive/MyDrive/Numeros IA/N6/6 (14).png\n",
            "/content/drive/MyDrive/Numeros IA/N6/6 (15).png\n",
            "/content/drive/MyDrive/Numeros IA/N6/6 (16).png\n",
            "/content/drive/MyDrive/Numeros IA/N6/6 (2).png\n",
            "/content/drive/MyDrive/Numeros IA/N6/6 (51).png\n",
            "/content/drive/MyDrive/Numeros IA/N6/6 (3).png\n",
            "/content/drive/MyDrive/Numeros IA/N6/6 (4).png\n",
            "/content/drive/MyDrive/Numeros IA/N6/6 (5).png\n",
            "/content/drive/MyDrive/Numeros IA/N6/6 (6).png\n",
            "/content/drive/MyDrive/Numeros IA/N6/6 (47).png\n",
            "/content/drive/MyDrive/Numeros IA/N6/6 (48).png\n",
            "/content/drive/MyDrive/Numeros IA/N6/6 (49).png\n",
            "/content/drive/MyDrive/Numeros IA/N6/6 (50).png\n",
            "/content/drive/MyDrive/Numeros IA/N6/6 (1).png\n"
          ]
        }
      ]
    },
    {
      "cell_type": "code",
      "source": [
        "file = '/content/drive/MyDrive/Numeros IA/N7' \n",
        "\n",
        "num = 7\n",
        "\n",
        "for x in glob.iglob(f'{file}/*.png'):\n",
        "  #plt.imshow(x, cmap='gray')\n",
        "  print(x)\n",
        "  test_image = cv2.imread(x, cv2.IMREAD_GRAYSCALE )\n",
        "\n",
        "  # Formato de imagen\n",
        "  img_resized = cv2.resize(test_image, (28,28), )\n",
        "  img_resized = cv2.bitwise_not(img_resized)\n",
        "\n",
        "  # Guardar imagenes y etiquetas\n",
        "  imagenes_dataset.append(img_resized)\n",
        "  etiquetas_data.append(num)"
      ],
      "metadata": {
        "id": "CbMy4Vi1eWJJ",
        "colab": {
          "base_uri": "https://localhost:8080/"
        },
        "outputId": "00005485-ee8d-4d69-eb54-399bd80e6c0c"
      },
      "execution_count": 11,
      "outputs": [
        {
          "output_type": "stream",
          "name": "stdout",
          "text": [
            "/content/drive/MyDrive/Numeros IA/N7/7 (25).png\n",
            "/content/drive/MyDrive/Numeros IA/N7/7 (26).png\n",
            "/content/drive/MyDrive/Numeros IA/N7/7 (27).png\n",
            "/content/drive/MyDrive/Numeros IA/N7/7 (28).png\n",
            "/content/drive/MyDrive/Numeros IA/N7/7 (29).png\n",
            "/content/drive/MyDrive/Numeros IA/N7/7 (30).png\n",
            "/content/drive/MyDrive/Numeros IA/N7/7 (31).png\n",
            "/content/drive/MyDrive/Numeros IA/N7/7 (32).png\n",
            "/content/drive/MyDrive/Numeros IA/N7/7 (33).png\n",
            "/content/drive/MyDrive/Numeros IA/N7/7 (44).png\n",
            "/content/drive/MyDrive/Numeros IA/N7/7 (34).png\n",
            "/content/drive/MyDrive/Numeros IA/N7/7 (35).png\n",
            "/content/drive/MyDrive/Numeros IA/N7/7 (36).png\n",
            "/content/drive/MyDrive/Numeros IA/N7/7 (37).png\n",
            "/content/drive/MyDrive/Numeros IA/N7/7 (38).png\n",
            "/content/drive/MyDrive/Numeros IA/N7/7 (39).png\n",
            "/content/drive/MyDrive/Numeros IA/N7/7 (40).png\n",
            "/content/drive/MyDrive/Numeros IA/N7/7 (41).png\n",
            "/content/drive/MyDrive/Numeros IA/N7/7 (42).png\n",
            "/content/drive/MyDrive/Numeros IA/N7/7 (43).png\n",
            "/content/drive/MyDrive/Numeros IA/N7/7 (45).png\n",
            "/content/drive/MyDrive/Numeros IA/N7/7 (46).png\n",
            "/content/drive/MyDrive/Numeros IA/N7/7 (47).png\n",
            "/content/drive/MyDrive/Numeros IA/N7/7 (18).png\n",
            "/content/drive/MyDrive/Numeros IA/N7/7 (19).png\n",
            "/content/drive/MyDrive/Numeros IA/N7/7 (20).png\n",
            "/content/drive/MyDrive/Numeros IA/N7/7 (21).png\n",
            "/content/drive/MyDrive/Numeros IA/N7/7 (22).png\n",
            "/content/drive/MyDrive/Numeros IA/N7/7 (23).png\n",
            "/content/drive/MyDrive/Numeros IA/N7/7 (24).png\n",
            "/content/drive/MyDrive/Numeros IA/N7/7 (51).png\n",
            "/content/drive/MyDrive/Numeros IA/N7/7 (52).png\n",
            "/content/drive/MyDrive/Numeros IA/N7/7 (53).png\n",
            "/content/drive/MyDrive/Numeros IA/N7/7 (54).png\n",
            "/content/drive/MyDrive/Numeros IA/N7/7 (55).png\n",
            "/content/drive/MyDrive/Numeros IA/N7/7 (56).png\n",
            "/content/drive/MyDrive/Numeros IA/N7/7 (57).png\n",
            "/content/drive/MyDrive/Numeros IA/N7/7 (58).png\n",
            "/content/drive/MyDrive/Numeros IA/N7/7 (59).png\n",
            "/content/drive/MyDrive/Numeros IA/N7/7 (60).png\n",
            "/content/drive/MyDrive/Numeros IA/N7/7 (8).png\n",
            "/content/drive/MyDrive/Numeros IA/N7/7 (9).png\n",
            "/content/drive/MyDrive/Numeros IA/N7/7 (10).png\n",
            "/content/drive/MyDrive/Numeros IA/N7/7 (11).png\n",
            "/content/drive/MyDrive/Numeros IA/N7/7 (12).png\n",
            "/content/drive/MyDrive/Numeros IA/N7/7 (13).png\n",
            "/content/drive/MyDrive/Numeros IA/N7/7 (14).png\n",
            "/content/drive/MyDrive/Numeros IA/N7/7 (15).png\n",
            "/content/drive/MyDrive/Numeros IA/N7/7 (16).png\n",
            "/content/drive/MyDrive/Numeros IA/N7/7 (17).png\n",
            "/content/drive/MyDrive/Numeros IA/N7/7 (2).png\n",
            "/content/drive/MyDrive/Numeros IA/N7/7 (3).png\n",
            "/content/drive/MyDrive/Numeros IA/N7/7 (4).png\n",
            "/content/drive/MyDrive/Numeros IA/N7/7 (5).png\n",
            "/content/drive/MyDrive/Numeros IA/N7/7 (6).png\n",
            "/content/drive/MyDrive/Numeros IA/N7/7 (7).png\n",
            "/content/drive/MyDrive/Numeros IA/N7/7 (48).png\n",
            "/content/drive/MyDrive/Numeros IA/N7/7 (49).png\n",
            "/content/drive/MyDrive/Numeros IA/N7/7 (50).png\n",
            "/content/drive/MyDrive/Numeros IA/N7/7 (1).png\n"
          ]
        }
      ]
    },
    {
      "cell_type": "code",
      "source": [
        "file = '/content/drive/MyDrive/Numeros IA/N8' \n",
        "\n",
        "num = 8\n",
        "\n",
        "for x in glob.iglob(f'{file}/*.png'):\n",
        "  #plt.imshow(x, cmap='gray')\n",
        "  print(x)\n",
        "  test_image = cv2.imread(x, cv2.IMREAD_GRAYSCALE )\n",
        "\n",
        "  # Formato de imagen\n",
        "  img_resized = cv2.resize(test_image, (28,28), )\n",
        "  img_resized = cv2.bitwise_not(img_resized)\n",
        "\n",
        "  # Guardar imagenes y etiquetas\n",
        "  imagenes_dataset.append(img_resized)\n",
        "  etiquetas_data.append(num)"
      ],
      "metadata": {
        "id": "_rzVzpxgeWGT",
        "colab": {
          "base_uri": "https://localhost:8080/"
        },
        "outputId": "1b5c4c09-b355-4567-8826-e60bfad088e8"
      },
      "execution_count": 12,
      "outputs": [
        {
          "output_type": "stream",
          "name": "stdout",
          "text": [
            "/content/drive/MyDrive/Numeros IA/N8/8 (39).png\n",
            "/content/drive/MyDrive/Numeros IA/N8/8 (40).png\n",
            "/content/drive/MyDrive/Numeros IA/N8/8 (41).png\n",
            "/content/drive/MyDrive/Numeros IA/N8/8 (42).png\n",
            "/content/drive/MyDrive/Numeros IA/N8/8 (43).png\n",
            "/content/drive/MyDrive/Numeros IA/N8/8 (44).png\n",
            "/content/drive/MyDrive/Numeros IA/N8/8 (45).png\n",
            "/content/drive/MyDrive/Numeros IA/N8/8 (46).png\n",
            "/content/drive/MyDrive/Numeros IA/N8/8 (47).png\n",
            "/content/drive/MyDrive/Numeros IA/N8/8 (48).png\n",
            "/content/drive/MyDrive/Numeros IA/N8/8 (29).png\n",
            "/content/drive/MyDrive/Numeros IA/N8/8 (30).png\n",
            "/content/drive/MyDrive/Numeros IA/N8/8 (31).png\n",
            "/content/drive/MyDrive/Numeros IA/N8/8 (32).png\n",
            "/content/drive/MyDrive/Numeros IA/N8/8 (33).png\n",
            "/content/drive/MyDrive/Numeros IA/N8/8 (34).png\n",
            "/content/drive/MyDrive/Numeros IA/N8/8 (35).png\n",
            "/content/drive/MyDrive/Numeros IA/N8/8 (36).png\n",
            "/content/drive/MyDrive/Numeros IA/N8/8 (37).png\n",
            "/content/drive/MyDrive/Numeros IA/N8/8 (38).png\n",
            "/content/drive/MyDrive/Numeros IA/N8/8 (19).png\n",
            "/content/drive/MyDrive/Numeros IA/N8/8 (20).png\n",
            "/content/drive/MyDrive/Numeros IA/N8/8 (21).png\n",
            "/content/drive/MyDrive/Numeros IA/N8/8 (22).png\n",
            "/content/drive/MyDrive/Numeros IA/N8/8 (23).png\n",
            "/content/drive/MyDrive/Numeros IA/N8/8 (24).png\n",
            "/content/drive/MyDrive/Numeros IA/N8/8 (25).png\n",
            "/content/drive/MyDrive/Numeros IA/N8/8 (26).png\n",
            "/content/drive/MyDrive/Numeros IA/N8/8 (27).png\n",
            "/content/drive/MyDrive/Numeros IA/N8/8 (28).png\n",
            "/content/drive/MyDrive/Numeros IA/N8/8 (51).png\n",
            "/content/drive/MyDrive/Numeros IA/N8/8 (52).png\n",
            "/content/drive/MyDrive/Numeros IA/N8/8 (53).png\n",
            "/content/drive/MyDrive/Numeros IA/N8/8 (54).png\n",
            "/content/drive/MyDrive/Numeros IA/N8/8 (55).png\n",
            "/content/drive/MyDrive/Numeros IA/N8/8 (9).png\n",
            "/content/drive/MyDrive/Numeros IA/N8/8 (10).png\n",
            "/content/drive/MyDrive/Numeros IA/N8/8 (56).png\n",
            "/content/drive/MyDrive/Numeros IA/N8/8 (11).png\n",
            "/content/drive/MyDrive/Numeros IA/N8/8 (12).png\n",
            "/content/drive/MyDrive/Numeros IA/N8/8 (57).png\n",
            "/content/drive/MyDrive/Numeros IA/N8/8 (13).png\n",
            "/content/drive/MyDrive/Numeros IA/N8/8 (14).png\n",
            "/content/drive/MyDrive/Numeros IA/N8/8 (58).png\n",
            "/content/drive/MyDrive/Numeros IA/N8/8 (59).png\n",
            "/content/drive/MyDrive/Numeros IA/N8/8 (15).png\n",
            "/content/drive/MyDrive/Numeros IA/N8/8 (60).png\n",
            "/content/drive/MyDrive/Numeros IA/N8/8 (16).png\n",
            "/content/drive/MyDrive/Numeros IA/N8/8 (17).png\n",
            "/content/drive/MyDrive/Numeros IA/N8/8 (18).png\n",
            "/content/drive/MyDrive/Numeros IA/N8/8 (2).png\n",
            "/content/drive/MyDrive/Numeros IA/N8/8 (3).png\n",
            "/content/drive/MyDrive/Numeros IA/N8/8 (4).png\n",
            "/content/drive/MyDrive/Numeros IA/N8/8 (5).png\n",
            "/content/drive/MyDrive/Numeros IA/N8/8 (6).png\n",
            "/content/drive/MyDrive/Numeros IA/N8/8 (7).png\n",
            "/content/drive/MyDrive/Numeros IA/N8/8 (8).png\n",
            "/content/drive/MyDrive/Numeros IA/N8/8 (49).png\n",
            "/content/drive/MyDrive/Numeros IA/N8/8 (50).png\n",
            "/content/drive/MyDrive/Numeros IA/N8/8 (1).png\n"
          ]
        }
      ]
    },
    {
      "cell_type": "code",
      "source": [
        "file = '/content/drive/MyDrive/Numeros IA/N9' \n",
        "\n",
        "num = 9\n",
        "\n",
        "for x in glob.iglob(f'{file}/*.png'):\n",
        "  #plt.imshow(x, cmap='gray')\n",
        "  print(x)\n",
        "  test_image = cv2.imread(x, cv2.IMREAD_GRAYSCALE )\n",
        "\n",
        "  # Formato de imagen\n",
        "  img_resized = cv2.resize(test_image, (28,28), )\n",
        "  img_resized = cv2.bitwise_not(img_resized)\n",
        "\n",
        "  # Guardar imagenes y etiquetas\n",
        "  imagenes_dataset.append(img_resized)\n",
        "  etiquetas_data.append(num)"
      ],
      "metadata": {
        "id": "ydHX1gg1eWC3",
        "colab": {
          "base_uri": "https://localhost:8080/"
        },
        "outputId": "6cc0b7f4-1f2b-4233-d243-3cd21695b123"
      },
      "execution_count": 13,
      "outputs": [
        {
          "output_type": "stream",
          "name": "stdout",
          "text": [
            "/content/drive/MyDrive/Numeros IA/N9/9 (2).png\n",
            "/content/drive/MyDrive/Numeros IA/N9/9 (3).png\n",
            "/content/drive/MyDrive/Numeros IA/N9/9 (12).png\n",
            "/content/drive/MyDrive/Numeros IA/N9/9 (13).png\n",
            "/content/drive/MyDrive/Numeros IA/N9/9 (14).png\n",
            "/content/drive/MyDrive/Numeros IA/N9/9 (15).png\n",
            "/content/drive/MyDrive/Numeros IA/N9/9 (4).png\n",
            "/content/drive/MyDrive/Numeros IA/N9/9 (5).png\n",
            "/content/drive/MyDrive/Numeros IA/N9/9 (6).png\n",
            "/content/drive/MyDrive/Numeros IA/N9/9 (16).png\n",
            "/content/drive/MyDrive/Numeros IA/N9/9 (58).png\n",
            "/content/drive/MyDrive/Numeros IA/N9/9 (36).png\n",
            "/content/drive/MyDrive/Numeros IA/N9/9 (37).png\n",
            "/content/drive/MyDrive/Numeros IA/N9/9 (59).png\n",
            "/content/drive/MyDrive/Numeros IA/N9/9 (1).png\n",
            "/content/drive/MyDrive/Numeros IA/N9/9 (7).png\n",
            "/content/drive/MyDrive/Numeros IA/N9/9 (17).png\n",
            "/content/drive/MyDrive/Numeros IA/N9/9 (18).png\n",
            "/content/drive/MyDrive/Numeros IA/N9/9 (8).png\n",
            "/content/drive/MyDrive/Numeros IA/N9/9 (9).png\n",
            "/content/drive/MyDrive/Numeros IA/N9/9 (19).png\n",
            "/content/drive/MyDrive/Numeros IA/N9/9 (10).png\n",
            "/content/drive/MyDrive/Numeros IA/N9/9 (20).png\n",
            "/content/drive/MyDrive/Numeros IA/N9/9 (21).png\n",
            "/content/drive/MyDrive/Numeros IA/N9/9 (11).png\n",
            "/content/drive/MyDrive/Numeros IA/N9/9 (38).png\n",
            "/content/drive/MyDrive/Numeros IA/N9/9 (39).png\n",
            "/content/drive/MyDrive/Numeros IA/N9/9 (40).png\n",
            "/content/drive/MyDrive/Numeros IA/N9/9 (41).png\n",
            "/content/drive/MyDrive/Numeros IA/N9/9 (42).png\n",
            "/content/drive/MyDrive/Numeros IA/N9/9 (60).png\n",
            "/content/drive/MyDrive/Numeros IA/N9/9 (43).png\n",
            "/content/drive/MyDrive/Numeros IA/N9/9 (54).png\n",
            "/content/drive/MyDrive/Numeros IA/N9/9 (55).png\n",
            "/content/drive/MyDrive/Numeros IA/N9/9 (44).png\n",
            "/content/drive/MyDrive/Numeros IA/N9/9 (45).png\n",
            "/content/drive/MyDrive/Numeros IA/N9/9 (46).png\n",
            "/content/drive/MyDrive/Numeros IA/N9/9 (56).png\n",
            "/content/drive/MyDrive/Numeros IA/N9/9 (57).png\n",
            "/content/drive/MyDrive/Numeros IA/N9/9 (47).png\n",
            "/content/drive/MyDrive/Numeros IA/N9/9 (49).png\n",
            "/content/drive/MyDrive/Numeros IA/N9/9 (50).png\n",
            "/content/drive/MyDrive/Numeros IA/N9/9 (51).png\n",
            "/content/drive/MyDrive/Numeros IA/N9/9 (52).png\n",
            "/content/drive/MyDrive/Numeros IA/N9/9 (53).png\n",
            "/content/drive/MyDrive/Numeros IA/N9/9 (48).png\n",
            "/content/drive/MyDrive/Numeros IA/N9/9 (22).png\n",
            "/content/drive/MyDrive/Numeros IA/N9/9 (23).png\n",
            "/content/drive/MyDrive/Numeros IA/N9/9 (24).png\n",
            "/content/drive/MyDrive/Numeros IA/N9/9 (25).png\n",
            "/content/drive/MyDrive/Numeros IA/N9/9 (33).png\n",
            "/content/drive/MyDrive/Numeros IA/N9/9 (26).png\n",
            "/content/drive/MyDrive/Numeros IA/N9/9 (27).png\n",
            "/content/drive/MyDrive/Numeros IA/N9/9 (28).png\n",
            "/content/drive/MyDrive/Numeros IA/N9/9 (29).png\n",
            "/content/drive/MyDrive/Numeros IA/N9/9 (30).png\n",
            "/content/drive/MyDrive/Numeros IA/N9/9 (31).png\n",
            "/content/drive/MyDrive/Numeros IA/N9/9 (32).png\n",
            "/content/drive/MyDrive/Numeros IA/N9/9 (34).png\n",
            "/content/drive/MyDrive/Numeros IA/N9/9 (35).png\n"
          ]
        }
      ]
    },
    {
      "cell_type": "code",
      "source": [
        "len(imagenes_dataset) #Agrega las 600 imagenes o 100 depende la prueba "
      ],
      "metadata": {
        "colab": {
          "base_uri": "https://localhost:8080/"
        },
        "id": "L__E1Fh0eNUG",
        "outputId": "5abd6f14-f160-4eed-e1ae-725efe6310ce"
      },
      "execution_count": 14,
      "outputs": [
        {
          "output_type": "execute_result",
          "data": {
            "text/plain": [
              "600"
            ]
          },
          "metadata": {},
          "execution_count": 14
        }
      ]
    },
    {
      "cell_type": "code",
      "source": [
        "len(etiquetas_data)"
      ],
      "metadata": {
        "colab": {
          "base_uri": "https://localhost:8080/"
        },
        "id": "OEeqdochk7zU",
        "outputId": "6d3eb30f-b8a4-4f6b-da3e-fa159382f39e"
      },
      "execution_count": 15,
      "outputs": [
        {
          "output_type": "execute_result",
          "data": {
            "text/plain": [
              "600"
            ]
          },
          "metadata": {},
          "execution_count": 15
        }
      ]
    },
    {
      "cell_type": "code",
      "source": [
        "etiquetas_data"
      ],
      "metadata": {
        "id": "qS1XDPeosmjC",
        "colab": {
          "base_uri": "https://localhost:8080/"
        },
        "outputId": "0225bea9-bbb1-4d70-a43a-e169eec86b44"
      },
      "execution_count": 16,
      "outputs": [
        {
          "output_type": "execute_result",
          "data": {
            "text/plain": [
              "[0,\n",
              " 0,\n",
              " 0,\n",
              " 0,\n",
              " 0,\n",
              " 0,\n",
              " 0,\n",
              " 0,\n",
              " 0,\n",
              " 0,\n",
              " 0,\n",
              " 0,\n",
              " 0,\n",
              " 0,\n",
              " 0,\n",
              " 0,\n",
              " 0,\n",
              " 0,\n",
              " 0,\n",
              " 0,\n",
              " 0,\n",
              " 0,\n",
              " 0,\n",
              " 0,\n",
              " 0,\n",
              " 0,\n",
              " 0,\n",
              " 0,\n",
              " 0,\n",
              " 0,\n",
              " 0,\n",
              " 0,\n",
              " 0,\n",
              " 0,\n",
              " 0,\n",
              " 0,\n",
              " 0,\n",
              " 0,\n",
              " 0,\n",
              " 0,\n",
              " 0,\n",
              " 0,\n",
              " 0,\n",
              " 0,\n",
              " 0,\n",
              " 0,\n",
              " 0,\n",
              " 0,\n",
              " 0,\n",
              " 0,\n",
              " 0,\n",
              " 0,\n",
              " 0,\n",
              " 0,\n",
              " 0,\n",
              " 0,\n",
              " 0,\n",
              " 0,\n",
              " 0,\n",
              " 0,\n",
              " 1,\n",
              " 1,\n",
              " 1,\n",
              " 1,\n",
              " 1,\n",
              " 1,\n",
              " 1,\n",
              " 1,\n",
              " 1,\n",
              " 1,\n",
              " 1,\n",
              " 1,\n",
              " 1,\n",
              " 1,\n",
              " 1,\n",
              " 1,\n",
              " 1,\n",
              " 1,\n",
              " 1,\n",
              " 1,\n",
              " 1,\n",
              " 1,\n",
              " 1,\n",
              " 1,\n",
              " 1,\n",
              " 1,\n",
              " 1,\n",
              " 1,\n",
              " 1,\n",
              " 1,\n",
              " 1,\n",
              " 1,\n",
              " 1,\n",
              " 1,\n",
              " 1,\n",
              " 1,\n",
              " 1,\n",
              " 1,\n",
              " 1,\n",
              " 1,\n",
              " 1,\n",
              " 1,\n",
              " 1,\n",
              " 1,\n",
              " 1,\n",
              " 1,\n",
              " 1,\n",
              " 1,\n",
              " 1,\n",
              " 1,\n",
              " 1,\n",
              " 1,\n",
              " 1,\n",
              " 1,\n",
              " 1,\n",
              " 1,\n",
              " 1,\n",
              " 1,\n",
              " 1,\n",
              " 1,\n",
              " 2,\n",
              " 2,\n",
              " 2,\n",
              " 2,\n",
              " 2,\n",
              " 2,\n",
              " 2,\n",
              " 2,\n",
              " 2,\n",
              " 2,\n",
              " 2,\n",
              " 2,\n",
              " 2,\n",
              " 2,\n",
              " 2,\n",
              " 2,\n",
              " 2,\n",
              " 2,\n",
              " 2,\n",
              " 2,\n",
              " 2,\n",
              " 2,\n",
              " 2,\n",
              " 2,\n",
              " 2,\n",
              " 2,\n",
              " 2,\n",
              " 2,\n",
              " 2,\n",
              " 2,\n",
              " 2,\n",
              " 2,\n",
              " 2,\n",
              " 2,\n",
              " 2,\n",
              " 2,\n",
              " 2,\n",
              " 2,\n",
              " 2,\n",
              " 2,\n",
              " 2,\n",
              " 2,\n",
              " 2,\n",
              " 2,\n",
              " 2,\n",
              " 2,\n",
              " 2,\n",
              " 2,\n",
              " 2,\n",
              " 2,\n",
              " 2,\n",
              " 2,\n",
              " 2,\n",
              " 2,\n",
              " 2,\n",
              " 2,\n",
              " 2,\n",
              " 2,\n",
              " 2,\n",
              " 2,\n",
              " 3,\n",
              " 3,\n",
              " 3,\n",
              " 3,\n",
              " 3,\n",
              " 3,\n",
              " 3,\n",
              " 3,\n",
              " 3,\n",
              " 3,\n",
              " 3,\n",
              " 3,\n",
              " 3,\n",
              " 3,\n",
              " 3,\n",
              " 3,\n",
              " 3,\n",
              " 3,\n",
              " 3,\n",
              " 3,\n",
              " 3,\n",
              " 3,\n",
              " 3,\n",
              " 3,\n",
              " 3,\n",
              " 3,\n",
              " 3,\n",
              " 3,\n",
              " 3,\n",
              " 3,\n",
              " 3,\n",
              " 3,\n",
              " 3,\n",
              " 3,\n",
              " 3,\n",
              " 3,\n",
              " 3,\n",
              " 3,\n",
              " 3,\n",
              " 3,\n",
              " 3,\n",
              " 3,\n",
              " 3,\n",
              " 3,\n",
              " 3,\n",
              " 3,\n",
              " 3,\n",
              " 3,\n",
              " 3,\n",
              " 3,\n",
              " 3,\n",
              " 3,\n",
              " 3,\n",
              " 3,\n",
              " 3,\n",
              " 3,\n",
              " 3,\n",
              " 3,\n",
              " 3,\n",
              " 3,\n",
              " 4,\n",
              " 4,\n",
              " 4,\n",
              " 4,\n",
              " 4,\n",
              " 4,\n",
              " 4,\n",
              " 4,\n",
              " 4,\n",
              " 4,\n",
              " 4,\n",
              " 4,\n",
              " 4,\n",
              " 4,\n",
              " 4,\n",
              " 4,\n",
              " 4,\n",
              " 4,\n",
              " 4,\n",
              " 4,\n",
              " 4,\n",
              " 4,\n",
              " 4,\n",
              " 4,\n",
              " 4,\n",
              " 4,\n",
              " 4,\n",
              " 4,\n",
              " 4,\n",
              " 4,\n",
              " 4,\n",
              " 4,\n",
              " 4,\n",
              " 4,\n",
              " 4,\n",
              " 4,\n",
              " 4,\n",
              " 4,\n",
              " 4,\n",
              " 4,\n",
              " 4,\n",
              " 4,\n",
              " 4,\n",
              " 4,\n",
              " 4,\n",
              " 4,\n",
              " 4,\n",
              " 4,\n",
              " 4,\n",
              " 4,\n",
              " 4,\n",
              " 4,\n",
              " 4,\n",
              " 4,\n",
              " 4,\n",
              " 4,\n",
              " 4,\n",
              " 4,\n",
              " 4,\n",
              " 4,\n",
              " 5,\n",
              " 5,\n",
              " 5,\n",
              " 5,\n",
              " 5,\n",
              " 5,\n",
              " 5,\n",
              " 5,\n",
              " 5,\n",
              " 5,\n",
              " 5,\n",
              " 5,\n",
              " 5,\n",
              " 5,\n",
              " 5,\n",
              " 5,\n",
              " 5,\n",
              " 5,\n",
              " 5,\n",
              " 5,\n",
              " 5,\n",
              " 5,\n",
              " 5,\n",
              " 5,\n",
              " 5,\n",
              " 5,\n",
              " 5,\n",
              " 5,\n",
              " 5,\n",
              " 5,\n",
              " 5,\n",
              " 5,\n",
              " 5,\n",
              " 5,\n",
              " 5,\n",
              " 5,\n",
              " 5,\n",
              " 5,\n",
              " 5,\n",
              " 5,\n",
              " 5,\n",
              " 5,\n",
              " 5,\n",
              " 5,\n",
              " 5,\n",
              " 5,\n",
              " 5,\n",
              " 5,\n",
              " 5,\n",
              " 5,\n",
              " 5,\n",
              " 5,\n",
              " 5,\n",
              " 5,\n",
              " 5,\n",
              " 5,\n",
              " 5,\n",
              " 5,\n",
              " 5,\n",
              " 5,\n",
              " 6,\n",
              " 6,\n",
              " 6,\n",
              " 6,\n",
              " 6,\n",
              " 6,\n",
              " 6,\n",
              " 6,\n",
              " 6,\n",
              " 6,\n",
              " 6,\n",
              " 6,\n",
              " 6,\n",
              " 6,\n",
              " 6,\n",
              " 6,\n",
              " 6,\n",
              " 6,\n",
              " 6,\n",
              " 6,\n",
              " 6,\n",
              " 6,\n",
              " 6,\n",
              " 6,\n",
              " 6,\n",
              " 6,\n",
              " 6,\n",
              " 6,\n",
              " 6,\n",
              " 6,\n",
              " 6,\n",
              " 6,\n",
              " 6,\n",
              " 6,\n",
              " 6,\n",
              " 6,\n",
              " 6,\n",
              " 6,\n",
              " 6,\n",
              " 6,\n",
              " 6,\n",
              " 6,\n",
              " 6,\n",
              " 6,\n",
              " 6,\n",
              " 6,\n",
              " 6,\n",
              " 6,\n",
              " 6,\n",
              " 6,\n",
              " 6,\n",
              " 6,\n",
              " 6,\n",
              " 6,\n",
              " 6,\n",
              " 6,\n",
              " 6,\n",
              " 6,\n",
              " 6,\n",
              " 6,\n",
              " 7,\n",
              " 7,\n",
              " 7,\n",
              " 7,\n",
              " 7,\n",
              " 7,\n",
              " 7,\n",
              " 7,\n",
              " 7,\n",
              " 7,\n",
              " 7,\n",
              " 7,\n",
              " 7,\n",
              " 7,\n",
              " 7,\n",
              " 7,\n",
              " 7,\n",
              " 7,\n",
              " 7,\n",
              " 7,\n",
              " 7,\n",
              " 7,\n",
              " 7,\n",
              " 7,\n",
              " 7,\n",
              " 7,\n",
              " 7,\n",
              " 7,\n",
              " 7,\n",
              " 7,\n",
              " 7,\n",
              " 7,\n",
              " 7,\n",
              " 7,\n",
              " 7,\n",
              " 7,\n",
              " 7,\n",
              " 7,\n",
              " 7,\n",
              " 7,\n",
              " 7,\n",
              " 7,\n",
              " 7,\n",
              " 7,\n",
              " 7,\n",
              " 7,\n",
              " 7,\n",
              " 7,\n",
              " 7,\n",
              " 7,\n",
              " 7,\n",
              " 7,\n",
              " 7,\n",
              " 7,\n",
              " 7,\n",
              " 7,\n",
              " 7,\n",
              " 7,\n",
              " 7,\n",
              " 7,\n",
              " 8,\n",
              " 8,\n",
              " 8,\n",
              " 8,\n",
              " 8,\n",
              " 8,\n",
              " 8,\n",
              " 8,\n",
              " 8,\n",
              " 8,\n",
              " 8,\n",
              " 8,\n",
              " 8,\n",
              " 8,\n",
              " 8,\n",
              " 8,\n",
              " 8,\n",
              " 8,\n",
              " 8,\n",
              " 8,\n",
              " 8,\n",
              " 8,\n",
              " 8,\n",
              " 8,\n",
              " 8,\n",
              " 8,\n",
              " 8,\n",
              " 8,\n",
              " 8,\n",
              " 8,\n",
              " 8,\n",
              " 8,\n",
              " 8,\n",
              " 8,\n",
              " 8,\n",
              " 8,\n",
              " 8,\n",
              " 8,\n",
              " 8,\n",
              " 8,\n",
              " 8,\n",
              " 8,\n",
              " 8,\n",
              " 8,\n",
              " 8,\n",
              " 8,\n",
              " 8,\n",
              " 8,\n",
              " 8,\n",
              " 8,\n",
              " 8,\n",
              " 8,\n",
              " 8,\n",
              " 8,\n",
              " 8,\n",
              " 8,\n",
              " 8,\n",
              " 8,\n",
              " 8,\n",
              " 8,\n",
              " 9,\n",
              " 9,\n",
              " 9,\n",
              " 9,\n",
              " 9,\n",
              " 9,\n",
              " 9,\n",
              " 9,\n",
              " 9,\n",
              " 9,\n",
              " 9,\n",
              " 9,\n",
              " 9,\n",
              " 9,\n",
              " 9,\n",
              " 9,\n",
              " 9,\n",
              " 9,\n",
              " 9,\n",
              " 9,\n",
              " 9,\n",
              " 9,\n",
              " 9,\n",
              " 9,\n",
              " 9,\n",
              " 9,\n",
              " 9,\n",
              " 9,\n",
              " 9,\n",
              " 9,\n",
              " 9,\n",
              " 9,\n",
              " 9,\n",
              " 9,\n",
              " 9,\n",
              " 9,\n",
              " 9,\n",
              " 9,\n",
              " 9,\n",
              " 9,\n",
              " 9,\n",
              " 9,\n",
              " 9,\n",
              " 9,\n",
              " 9,\n",
              " 9,\n",
              " 9,\n",
              " 9,\n",
              " 9,\n",
              " 9,\n",
              " 9,\n",
              " 9,\n",
              " 9,\n",
              " 9,\n",
              " 9,\n",
              " 9,\n",
              " 9,\n",
              " 9,\n",
              " 9,\n",
              " 9]"
            ]
          },
          "metadata": {},
          "execution_count": 16
        }
      ]
    },
    {
      "cell_type": "code",
      "source": [
        "train_x, test_x, train_y, test_y = train_test_split(imagenes_dataset, etiquetas_data, test_size=0.20, random_state=42)"
      ],
      "metadata": {
        "id": "aN4y_hAtgktu"
      },
      "execution_count": 17,
      "outputs": []
    },
    {
      "cell_type": "code",
      "source": [
        "len(train_x)"
      ],
      "metadata": {
        "colab": {
          "base_uri": "https://localhost:8080/"
        },
        "id": "Cf9Qkbn3gknE",
        "outputId": "a208854d-687c-4099-dfb7-3d5368236b92"
      },
      "execution_count": 18,
      "outputs": [
        {
          "output_type": "execute_result",
          "data": {
            "text/plain": [
              "480"
            ]
          },
          "metadata": {},
          "execution_count": 18
        }
      ]
    },
    {
      "cell_type": "code",
      "source": [
        "plt.imshow(train_x [50], cmap='gray')"
      ],
      "metadata": {
        "colab": {
          "base_uri": "https://localhost:8080/",
          "height": 282
        },
        "id": "nv_KQ_1mlPqL",
        "outputId": "29b6bb2b-6e54-4828-ce05-1ec2e17f8e9b"
      },
      "execution_count": 19,
      "outputs": [
        {
          "output_type": "execute_result",
          "data": {
            "text/plain": [
              "<matplotlib.image.AxesImage at 0x7f12f269fd50>"
            ]
          },
          "metadata": {},
          "execution_count": 19
        },
        {
          "output_type": "display_data",
          "data": {
            "text/plain": [
              "<Figure size 432x288 with 1 Axes>"
            ],
            "image/png": "[encoded data removed]"
          },
          "metadata": {
            "needs_background": "light"
          }
        }
      ]
    },
    {
      "cell_type": "code",
      "source": [
        "print(train_y[50]) "
      ],
      "metadata": {
        "colab": {
          "base_uri": "https://localhost:8080/"
        },
        "id": "Wnw6nKMWmN6D",
        "outputId": "441956b1-eaf4-458f-a0ee-8a786b451d2f"
      },
      "execution_count": 20,
      "outputs": [
        {
          "output_type": "stream",
          "name": "stdout",
          "text": [
            "4\n"
          ]
        }
      ]
    },
    {
      "cell_type": "code",
      "source": [
        "train_x = npy.array(train_x)\n",
        "test_x = npy.array(test_x)\n",
        "train_y = npy.array(train_y)\n",
        "test_y = npy.array(test_y)"
      ],
      "metadata": {
        "id": "dVhSOZB5mfz8"
      },
      "execution_count": 21,
      "outputs": []
    },
    {
      "cell_type": "code",
      "source": [
        "train_x.shape"
      ],
      "metadata": {
        "colab": {
          "base_uri": "https://localhost:8080/"
        },
        "id": "4U6RsPiKoo1V",
        "outputId": "a9433cc1-1117-4f51-8576-835b841645ae"
      },
      "execution_count": 22,
      "outputs": [
        {
          "output_type": "execute_result",
          "data": {
            "text/plain": [
              "(480, 28, 28)"
            ]
          },
          "metadata": {},
          "execution_count": 22
        }
      ]
    },
    {
      "cell_type": "code",
      "source": [
        "test_x.shape"
      ],
      "metadata": {
        "colab": {
          "base_uri": "https://localhost:8080/"
        },
        "id": "Edtu6jYUxny7",
        "outputId": "b01c3149-2327-4d95-d316-9f4bd1769a75"
      },
      "execution_count": 23,
      "outputs": [
        {
          "output_type": "execute_result",
          "data": {
            "text/plain": [
              "(120, 28, 28)"
            ]
          },
          "metadata": {},
          "execution_count": 23
        }
      ]
    },
    {
      "cell_type": "code",
      "source": [
        "len(train_y)\n"
      ],
      "metadata": {
        "colab": {
          "base_uri": "https://localhost:8080/"
        },
        "id": "NR_49BGVossu",
        "outputId": "8509c656-f363-41b5-d6ef-c0baba9283d6"
      },
      "execution_count": 24,
      "outputs": [
        {
          "output_type": "execute_result",
          "data": {
            "text/plain": [
              "480"
            ]
          },
          "metadata": {},
          "execution_count": 24
        }
      ]
    },
    {
      "cell_type": "code",
      "source": [
        "train_y"
      ],
      "metadata": {
        "colab": {
          "base_uri": "https://localhost:8080/"
        },
        "id": "oJBun0d4ptNr",
        "outputId": "6f82fff0-55a3-4430-b5fb-54e47ebe4237"
      },
      "execution_count": 25,
      "outputs": [
        {
          "output_type": "execute_result",
          "data": {
            "text/plain": [
              "array([2, 0, 6, 8, 3, 2, 9, 4, 9, 7, 1, 9, 2, 2, 7, 3, 1, 1, 4, 1, 0, 3,\n",
              "       2, 1, 8, 1, 6, 6, 0, 0, 9, 8, 5, 5, 8, 4, 0, 7, 1, 1, 6, 3, 0, 6,\n",
              "       5, 2, 4, 4, 9, 6, 4, 4, 8, 6, 2, 0, 8, 0, 1, 4, 1, 4, 9, 7, 7, 6,\n",
              "       6, 7, 6, 4, 8, 8, 1, 3, 6, 4, 7, 5, 8, 2, 2, 7, 7, 3, 3, 4, 4, 4,\n",
              "       4, 7, 9, 9, 9, 1, 3, 2, 5, 0, 8, 0, 2, 7, 0, 5, 5, 7, 5, 5, 0, 5,\n",
              "       0, 7, 3, 8, 9, 0, 6, 4, 6, 4, 9, 6, 6, 2, 2, 5, 8, 7, 2, 0, 1, 0,\n",
              "       2, 9, 1, 0, 5, 3, 0, 4, 4, 5, 9, 3, 5, 8, 4, 1, 3, 5, 5, 5, 0, 0,\n",
              "       6, 9, 7, 0, 0, 9, 8, 0, 8, 7, 6, 7, 5, 3, 0, 7, 4, 0, 3, 0, 2, 3,\n",
              "       9, 2, 8, 5, 3, 8, 9, 8, 1, 5, 2, 6, 2, 3, 2, 8, 5, 8, 5, 1, 6, 1,\n",
              "       7, 9, 1, 6, 6, 8, 3, 5, 5, 5, 6, 0, 6, 0, 2, 4, 5, 9, 0, 1, 6, 5,\n",
              "       4, 8, 4, 2, 4, 8, 8, 0, 7, 5, 3, 5, 2, 7, 8, 2, 7, 5, 5, 8, 2, 8,\n",
              "       1, 2, 3, 7, 1, 5, 4, 4, 7, 2, 3, 3, 5, 4, 8, 7, 7, 8, 8, 6, 2, 9,\n",
              "       3, 5, 0, 3, 2, 9, 6, 7, 9, 6, 9, 6, 6, 9, 4, 8, 8, 6, 1, 2, 7, 7,\n",
              "       7, 6, 5, 2, 9, 3, 5, 9, 2, 5, 2, 6, 3, 9, 4, 3, 1, 2, 8, 6, 6, 3,\n",
              "       9, 7, 5, 2, 9, 4, 9, 0, 1, 9, 7, 2, 8, 0, 2, 1, 4, 1, 4, 3, 5, 2,\n",
              "       0, 0, 0, 2, 2, 3, 7, 8, 3, 9, 1, 0, 4, 8, 5, 8, 2, 7, 8, 0, 9, 8,\n",
              "       3, 6, 4, 5, 6, 4, 3, 0, 4, 9, 8, 7, 1, 3, 7, 9, 9, 3, 5, 2, 1, 4,\n",
              "       3, 1, 6, 0, 0, 6, 4, 5, 3, 2, 0, 8, 8, 3, 8, 4, 6, 4, 6, 6, 8, 2,\n",
              "       1, 7, 2, 9, 8, 1, 0, 2, 0, 8, 6, 3, 3, 0, 5, 4, 4, 7, 7, 9, 4, 3,\n",
              "       2, 6, 7, 1, 6, 0, 9, 1, 3, 0, 8, 7, 7, 6, 1, 5, 5, 4, 0, 5, 6, 4,\n",
              "       2, 9, 8, 9, 8, 4, 9, 3, 7, 8, 0, 7, 9, 4, 0, 5, 7, 2, 4, 3, 6, 6,\n",
              "       8, 5, 5, 2, 1, 6, 1, 7, 5, 3, 7, 2, 0, 1, 1, 4, 7, 1])"
            ]
          },
          "metadata": {},
          "execution_count": 25
        }
      ]
    },
    {
      "cell_type": "code",
      "source": [
        "train_x"
      ],
      "metadata": {
        "colab": {
          "base_uri": "https://localhost:8080/"
        },
        "id": "bphhyDPRQw2v",
        "outputId": "95560aff-eeee-4aa0-a470-61904d71562e"
      },
      "execution_count": 26,
      "outputs": [
        {
          "output_type": "execute_result",
          "data": {
            "text/plain": [
              "array([[[2, 2, 2, ..., 2, 2, 2],\n",
              "        [2, 2, 2, ..., 2, 2, 2],\n",
              "        [2, 2, 2, ..., 2, 2, 2],\n",
              "        ...,\n",
              "        [2, 2, 2, ..., 2, 2, 2],\n",
              "        [2, 2, 2, ..., 2, 2, 2],\n",
              "        [2, 2, 2, ..., 2, 2, 2]],\n",
              "\n",
              "       [[2, 2, 2, ..., 2, 2, 2],\n",
              "        [2, 2, 2, ..., 2, 2, 2],\n",
              "        [2, 2, 2, ..., 2, 2, 2],\n",
              "        ...,\n",
              "        [2, 2, 2, ..., 2, 2, 2],\n",
              "        [2, 2, 2, ..., 2, 2, 2],\n",
              "        [2, 2, 2, ..., 2, 2, 2]],\n",
              "\n",
              "       [[0, 0, 0, ..., 0, 0, 0],\n",
              "        [0, 0, 0, ..., 0, 0, 0],\n",
              "        [0, 0, 0, ..., 0, 0, 0],\n",
              "        ...,\n",
              "        [0, 0, 0, ..., 0, 0, 0],\n",
              "        [0, 0, 0, ..., 0, 0, 0],\n",
              "        [0, 0, 0, ..., 0, 0, 0]],\n",
              "\n",
              "       ...,\n",
              "\n",
              "       [[0, 0, 0, ..., 0, 0, 0],\n",
              "        [0, 0, 0, ..., 0, 0, 0],\n",
              "        [0, 0, 0, ..., 0, 0, 0],\n",
              "        ...,\n",
              "        [0, 0, 0, ..., 0, 0, 0],\n",
              "        [0, 0, 0, ..., 0, 0, 0],\n",
              "        [0, 0, 0, ..., 0, 0, 0]],\n",
              "\n",
              "       [[0, 0, 0, ..., 0, 0, 0],\n",
              "        [0, 0, 0, ..., 0, 0, 0],\n",
              "        [0, 0, 0, ..., 0, 0, 0],\n",
              "        ...,\n",
              "        [0, 0, 0, ..., 0, 0, 0],\n",
              "        [0, 0, 0, ..., 0, 0, 0],\n",
              "        [0, 0, 0, ..., 0, 0, 0]],\n",
              "\n",
              "       [[0, 0, 0, ..., 0, 0, 0],\n",
              "        [0, 0, 0, ..., 0, 0, 0],\n",
              "        [0, 0, 0, ..., 0, 0, 0],\n",
              "        ...,\n",
              "        [0, 0, 0, ..., 0, 0, 0],\n",
              "        [0, 0, 0, ..., 0, 0, 0],\n",
              "        [0, 0, 0, ..., 0, 0, 0]]], dtype=uint8)"
            ]
          },
          "metadata": {},
          "execution_count": 26
        }
      ]
    },
    {
      "cell_type": "code",
      "source": [
        "len(test_y)"
      ],
      "metadata": {
        "colab": {
          "base_uri": "https://localhost:8080/"
        },
        "id": "rE1cPjT2osoK",
        "outputId": "19f0cbe8-3d59-4331-9d15-eb6fe40d34bf"
      },
      "execution_count": 27,
      "outputs": [
        {
          "output_type": "execute_result",
          "data": {
            "text/plain": [
              "120"
            ]
          },
          "metadata": {},
          "execution_count": 27
        }
      ]
    },
    {
      "cell_type": "code",
      "source": [
        "test_y"
      ],
      "metadata": {
        "colab": {
          "base_uri": "https://localhost:8080/"
        },
        "id": "wA3UXmCCoslM",
        "outputId": "65d748ba-f964-4f9a-efd0-2857a5316d3e"
      },
      "execution_count": 28,
      "outputs": [
        {
          "output_type": "execute_result",
          "data": {
            "text/plain": [
              "array([1, 6, 9, 1, 3, 4, 0, 7, 1, 5, 0, 1, 1, 9, 6, 3, 0, 3, 3, 1, 0, 9,\n",
              "       8, 9, 6, 8, 1, 2, 9, 7, 9, 2, 1, 4, 3, 7, 2, 8, 7, 4, 6, 0, 8, 9,\n",
              "       0, 3, 7, 1, 1, 8, 4, 4, 1, 9, 9, 5, 3, 2, 2, 3, 1, 2, 5, 8, 9, 1,\n",
              "       9, 9, 1, 5, 5, 0, 7, 6, 7, 8, 5, 3, 9, 7, 4, 7, 9, 6, 1, 0, 2, 3,\n",
              "       6, 3, 3, 9, 1, 5, 4, 4, 3, 0, 6, 1, 1, 3, 8, 5, 1, 7, 2, 4, 4, 6,\n",
              "       3, 7, 9, 9, 6, 6, 5, 2, 8, 7])"
            ]
          },
          "metadata": {},
          "execution_count": 28
        }
      ]
    },
    {
      "cell_type": "code",
      "source": [
        "#Normalización\n",
        "\n",
        "train_x = train_x / 255.0\n",
        "test_x = test_x / 255.0"
      ],
      "metadata": {
        "id": "cSgLGp-Yoovc"
      },
      "execution_count": 29,
      "outputs": []
    },
    {
      "cell_type": "code",
      "source": [
        "class_names = ['0', '1', '2', '3', '4', '5', '6', '7', '8', '9']"
      ],
      "metadata": {
        "id": "MebC0zLoCNIZ"
      },
      "execution_count": 30,
      "outputs": []
    },
    {
      "cell_type": "code",
      "source": [
        "plt.figure(figsize=(10,10))\n",
        "for i in range(9):\n",
        "    plt.subplot(5,5,i+1)\n",
        "    plt.xticks([])\n",
        "    plt.yticks([])\n",
        "    plt.grid(False)\n",
        "    plt.imshow(npy.squeeze(train_x[i]), cmap=plt.cm.binary)\n",
        "    plt.xlabel(class_names[train_y[i]])\n",
        "plt.show()"
      ],
      "metadata": {
        "colab": {
          "base_uri": "https://localhost:8080/",
          "height": 251
        },
        "id": "b7kRtg26wEbu",
        "outputId": "b97224cf-d9c7-41d9-87ee-2e9009d49717"
      },
      "execution_count": 31,
      "outputs": [
        {
          "output_type": "display_data",
          "data": {
            "text/plain": [
              "<Figure size 720x720 with 9 Axes>"
            ],
            "image/png": "[encoded data removed]"
          },
          "metadata": {}
        }
      ]
    },
    {
      "cell_type": "markdown",
      "source": [
        "## Estructura y entrenamiento de Red Neuronal Artificial Convolusional (RNAC)"
      ],
      "metadata": {
        "id": "eK9clGGKt7gr"
      }
    },
    {
      "cell_type": "code",
      "source": [
        "# Parte convolusional de la RNAC\n",
        "\n",
        "model = models.Sequential()\n",
        "model.add(layers.Conv2D(32, (3, 3), activation='relu', input_shape=(28, 28, 3)))\n",
        "model.add(layers.MaxPooling2D((2, 2)))\n",
        "model.add(layers.Conv2D(64, (3, 3), activation='relu'))\n",
        "model.add(layers.MaxPooling2D((2, 2)))\n",
        "model.add(layers.Conv2D(64, (3, 3), activation='relu'))"
      ],
      "metadata": {
        "id": "x42CN-vZoopb"
      },
      "execution_count": 32,
      "outputs": []
    },
    {
      "cell_type": "code",
      "source": [
        "train_x.shape"
      ],
      "metadata": {
        "id": "mw5Fsk_AI4ed",
        "outputId": "b68cd0b7-0534-4bdf-e280-862868eaaa71",
        "colab": {
          "base_uri": "https://localhost:8080/"
        }
      },
      "execution_count": 33,
      "outputs": [
        {
          "output_type": "execute_result",
          "data": {
            "text/plain": [
              "(480, 28, 28)"
            ]
          },
          "metadata": {},
          "execution_count": 33
        }
      ]
    },
    {
      "cell_type": "code",
      "source": [
        "model.summary()"
      ],
      "metadata": {
        "colab": {
          "base_uri": "https://localhost:8080/"
        },
        "id": "2sE45CG5T-DQ",
        "outputId": "fea4b6b0-9316-4a61-a126-9fd42381e861"
      },
      "execution_count": 34,
      "outputs": [
        {
          "output_type": "stream",
          "name": "stdout",
          "text": [
            "Model: \"sequential\"\n",
            "_________________________________________________________________\n",
            " Layer (type)                Output Shape              Param #   \n",
            "=================================================================\n",
            " conv2d (Conv2D)             (None, 26, 26, 32)        896       \n",
            "                                                                 \n",
            " max_pooling2d (MaxPooling2D  (None, 13, 13, 32)       0         \n",
            " )                                                               \n",
            "                                                                 \n",
            " conv2d_1 (Conv2D)           (None, 11, 11, 64)        18496     \n",
            "                                                                 \n",
            " max_pooling2d_1 (MaxPooling  (None, 5, 5, 64)         0         \n",
            " 2D)                                                             \n",
            "                                                                 \n",
            " conv2d_2 (Conv2D)           (None, 3, 3, 64)          36928     \n",
            "                                                                 \n",
            "=================================================================\n",
            "Total params: 56,320\n",
            "Trainable params: 56,320\n",
            "Non-trainable params: 0\n",
            "_________________________________________________________________\n"
          ]
        }
      ]
    },
    {
      "cell_type": "code",
      "source": [
        "# Parte de clasificación\n",
        "model = keras.Sequential([\n",
        "    keras.layers.Flatten(input_shape=(28, 28)),\n",
        "    keras.layers.Dense(128, activation='relu'),\n",
        "    keras.layers.Dense(10, activation='softmax')\n",
        "])"
      ],
      "metadata": {
        "id": "boHLygITtk6c"
      },
      "execution_count": 35,
      "outputs": []
    },
    {
      "cell_type": "code",
      "source": [
        "model.summary()"
      ],
      "metadata": {
        "colab": {
          "base_uri": "https://localhost:8080/"
        },
        "id": "vd9S0gN1UI84",
        "outputId": "208482cc-b715-4f28-9c1e-dea1f626f379"
      },
      "execution_count": 36,
      "outputs": [
        {
          "output_type": "stream",
          "name": "stdout",
          "text": [
            "Model: \"sequential_1\"\n",
            "_________________________________________________________________\n",
            " Layer (type)                Output Shape              Param #   \n",
            "=================================================================\n",
            " flatten (Flatten)           (None, 784)               0         \n",
            "                                                                 \n",
            " dense (Dense)               (None, 128)               100480    \n",
            "                                                                 \n",
            " dense_1 (Dense)             (None, 10)                1290      \n",
            "                                                                 \n",
            "=================================================================\n",
            "Total params: 101,770\n",
            "Trainable params: 101,770\n",
            "Non-trainable params: 0\n",
            "_________________________________________________________________\n"
          ]
        }
      ]
    },
    {
      "cell_type": "markdown",
      "source": [
        "## Compilar y entrenar el modelo"
      ],
      "metadata": {
        "id": "xR9aEu2DURP2"
      }
    },
    {
      "cell_type": "code",
      "source": [
        "# Compliación del modelo: características\n",
        "model.compile(optimizer='adam',\n",
        "              loss='sparse_categorical_crossentropy',\n",
        "              metrics=['accuracy'])"
      ],
      "metadata": {
        "id": "iEZkbFYTx6U0"
      },
      "execution_count": 37,
      "outputs": []
    },
    {
      "cell_type": "code",
      "source": [
        "history = model.fit(train_x, train_y, epochs=10, validation_data=(test_x, test_y))"
      ],
      "metadata": {
        "colab": {
          "base_uri": "https://localhost:8080/"
        },
        "id": "fWr-qCBC8v3R",
        "outputId": "9eadc243-cf9d-4441-ead3-2107e2097eef"
      },
      "execution_count": 38,
      "outputs": [
        {
          "output_type": "stream",
          "name": "stdout",
          "text": [
            "Epoch 1/10\n",
            "15/15 [==============================] - 1s 19ms/step - loss: 2.1674 - accuracy: 0.2333 - val_loss: 1.9337 - val_accuracy: 0.4833\n",
            "Epoch 2/10\n",
            "15/15 [==============================] - 0s 4ms/step - loss: 1.5064 - accuracy: 0.6833 - val_loss: 1.4966 - val_accuracy: 0.6250\n",
            "Epoch 3/10\n",
            "15/15 [==============================] - 0s 4ms/step - loss: 1.0560 - accuracy: 0.8000 - val_loss: 1.1826 - val_accuracy: 0.6917\n",
            "Epoch 4/10\n",
            "15/15 [==============================] - 0s 5ms/step - loss: 0.7712 - accuracy: 0.8562 - val_loss: 0.9647 - val_accuracy: 0.7583\n",
            "Epoch 5/10\n",
            "15/15 [==============================] - 0s 5ms/step - loss: 0.6012 - accuracy: 0.9062 - val_loss: 0.8611 - val_accuracy: 0.7667\n",
            "Epoch 6/10\n",
            "15/15 [==============================] - 0s 5ms/step - loss: 0.4990 - accuracy: 0.9333 - val_loss: 0.7912 - val_accuracy: 0.7667\n",
            "Epoch 7/10\n",
            "15/15 [==============================] - 0s 5ms/step - loss: 0.4276 - accuracy: 0.9563 - val_loss: 0.7476 - val_accuracy: 0.7750\n",
            "Epoch 8/10\n",
            "15/15 [==============================] - 0s 5ms/step - loss: 0.3732 - accuracy: 0.9708 - val_loss: 0.7268 - val_accuracy: 0.7667\n",
            "Epoch 9/10\n",
            "15/15 [==============================] - 0s 7ms/step - loss: 0.3314 - accuracy: 0.9729 - val_loss: 0.6985 - val_accuracy: 0.7750\n",
            "Epoch 10/10\n",
            "15/15 [==============================] - 0s 5ms/step - loss: 0.2957 - accuracy: 0.9792 - val_loss: 0.6871 - val_accuracy: 0.7833\n"
          ]
        }
      ]
    },
    {
      "cell_type": "markdown",
      "source": [
        "## Resultados de exactitud de la RNAC**"
      ],
      "metadata": {
        "id": "3plrsxxwtz5x"
      }
    },
    {
      "cell_type": "code",
      "source": [
        "#Gráfica con la diferencia de valores de exactitud del entrenamiento y la validación. \n",
        "\n",
        "plt.plot(history.history['accuracy'], label='accuracy')\n",
        "plt.plot(history.history['val_accuracy'], label = 'val_accuracy')\n",
        "plt.xlabel('Epoch')\n",
        "plt.ylabel('Accuracy')\n",
        "plt.ylim([0.4, 1])\n",
        "plt.xlim([-1, 11])\n",
        "plt.legend(loc='lower right')\n",
        "\n",
        "test_loss, test_acc = model.evaluate(test_x,  test_y, verbose=2)"
      ],
      "metadata": {
        "id": "giV7nLzbtxWO",
        "colab": {
          "base_uri": "https://localhost:8080/",
          "height": 300
        },
        "outputId": "bf502732-ca8d-4b44-810a-49bddbcf310e"
      },
      "execution_count": 39,
      "outputs": [
        {
          "output_type": "stream",
          "name": "stdout",
          "text": [
            "4/4 - 0s - loss: 0.6871 - accuracy: 0.7833 - 25ms/epoch - 6ms/step\n"
          ]
        },
        {
          "output_type": "display_data",
          "data": {
            "text/plain": [
              "<Figure size 432x288 with 1 Axes>"
            ],
            "image/png": "[encoded data removed]"
          },
          "metadata": {
            "needs_background": "light"
          }
        }
      ]
    },
    {
      "cell_type": "code",
      "source": [
        "print(test_acc)"
      ],
      "metadata": {
        "colab": {
          "base_uri": "https://localhost:8080/"
        },
        "id": "PqKWZ1Gw-s2R",
        "outputId": "01b38d55-7dc9-4c7d-ab24-c0be8313f860"
      },
      "execution_count": 40,
      "outputs": [
        {
          "output_type": "stream",
          "name": "stdout",
          "text": [
            "0.7833333611488342\n"
          ]
        }
      ]
    },
    {
      "cell_type": "markdown",
      "source": [
        "## Evaluar Exactitud"
      ],
      "metadata": {
        "id": "skpT_f4x-7Cr"
      }
    },
    {
      "cell_type": "code",
      "source": [
        "test_loss, test_acc = model.evaluate(test_x,  test_y, verbose=2)\n",
        "\n",
        "print('\\nTest accuracy:', test_acc)"
      ],
      "metadata": {
        "colab": {
          "base_uri": "https://localhost:8080/"
        },
        "id": "_yj84LSX-8Rx",
        "outputId": "2c0079f2-45a0-4054-c310-569b7930dfc2"
      },
      "execution_count": 41,
      "outputs": [
        {
          "output_type": "stream",
          "name": "stdout",
          "text": [
            "4/4 - 0s - loss: 0.6871 - accuracy: 0.7833 - 19ms/epoch - 5ms/step\n",
            "\n",
            "Test accuracy: 0.7833333611488342\n"
          ]
        }
      ]
    },
    {
      "cell_type": "markdown",
      "source": [
        "## Hacer predicciones"
      ],
      "metadata": {
        "id": "PHF8yHZA_FXw"
      }
    },
    {
      "cell_type": "code",
      "source": [
        "predictions = model.predict(test_x)"
      ],
      "metadata": {
        "colab": {
          "base_uri": "https://localhost:8080/"
        },
        "id": "XNuJUZuS_Gw7",
        "outputId": "3e5f11d8-46c1-45eb-c923-fd3e44c50518"
      },
      "execution_count": 42,
      "outputs": [
        {
          "output_type": "stream",
          "name": "stdout",
          "text": [
            "4/4 [==============================] - 0s 3ms/step\n"
          ]
        }
      ]
    },
    {
      "cell_type": "code",
      "source": [
        "predictions[0]"
      ],
      "metadata": {
        "colab": {
          "base_uri": "https://localhost:8080/"
        },
        "id": "9giLyB92_LMR",
        "outputId": "fdd74b6d-6c55-4abd-fcd3-c717515401fc"
      },
      "execution_count": 43,
      "outputs": [
        {
          "output_type": "execute_result",
          "data": {
            "text/plain": [
              "array([0.00694431, 0.7496105 , 0.03631233, 0.02235011, 0.02739648,\n",
              "       0.03473198, 0.03047428, 0.03644771, 0.0493347 , 0.00639762],\n",
              "      dtype=float32)"
            ]
          },
          "metadata": {},
          "execution_count": 43
        }
      ]
    },
    {
      "cell_type": "code",
      "source": [
        "npy.argmax(predictions[0])"
      ],
      "metadata": {
        "colab": {
          "base_uri": "https://localhost:8080/"
        },
        "id": "ZfGtXUQj_ODB",
        "outputId": "ef0ab6e1-064e-43f8-e7a4-51a7754e1d28"
      },
      "execution_count": 44,
      "outputs": [
        {
          "output_type": "execute_result",
          "data": {
            "text/plain": [
              "1"
            ]
          },
          "metadata": {},
          "execution_count": 44
        }
      ]
    },
    {
      "cell_type": "code",
      "source": [
        "test_y[0]"
      ],
      "metadata": {
        "colab": {
          "base_uri": "https://localhost:8080/"
        },
        "id": "cwBVAdoG_Z0D",
        "outputId": "debab288-bbe1-4eb8-e884-9f55e9bf2373"
      },
      "execution_count": 45,
      "outputs": [
        {
          "output_type": "execute_result",
          "data": {
            "text/plain": [
              "1"
            ]
          },
          "metadata": {},
          "execution_count": 45
        }
      ]
    },
    {
      "cell_type": "code",
      "source": [
        "from pandas.core.arrays.timedeltas import NpDtype\n",
        "def plot_image(i, predictions_array, true_label, img):\n",
        "  predictions_array, true_label, img = predictions_array, true_label[i], img[i]\n",
        "  plt.grid(False)\n",
        "  plt.xticks([])\n",
        "  plt.yticks([])\n",
        "\n",
        "  plt.imshow(img, cmap=plt.cm.binary)\n",
        "\n",
        "  predicted_label = npy.argmax(predictions_array)\n",
        "  if predicted_label == true_label:\n",
        "    color = 'blue'\n",
        "  else:\n",
        "    color = 'red'\n",
        "\n",
        "  plt.xlabel(\"{} {:2.0f}% ({})\".format(class_names[predicted_label],\n",
        "                                100*npy.max(predictions_array),\n",
        "                                class_names[true_label]),\n",
        "                                color=color)\n",
        "\n",
        "def plot_value_array(i, predictions_array, true_label):\n",
        "  predictions_array, true_label = predictions_array, true_label[i]\n",
        "  plt.grid(False)\n",
        "  plt.xticks(range(10))\n",
        "  plt.yticks([])\n",
        "  thisplot = plt.bar(range(10), predictions_array, color=\"#777777\")\n",
        "  plt.ylim([0, 1])\n",
        "  predicted_label = npy.argmax(predictions_array)\n",
        "\n",
        "  thisplot[predicted_label].set_color('red')\n",
        "  thisplot[true_label].set_color('blue')"
      ],
      "metadata": {
        "id": "YLGDsZxs_gFI"
      },
      "execution_count": 46,
      "outputs": []
    },
    {
      "cell_type": "code",
      "source": [
        "i = 0\n",
        "plt.figure(figsize=(6,3))\n",
        "plt.subplot(1,2,1)\n",
        "plot_image(i, predictions[i], test_y, test_x)\n",
        "plt.subplot(1,2,2)\n",
        "plot_value_array(i, predictions[i],  test_y)\n",
        "plt.show()"
      ],
      "metadata": {
        "colab": {
          "base_uri": "https://localhost:8080/",
          "height": 211
        },
        "id": "8_C7oRGO_qiA",
        "outputId": "6bccb804-1bf6-4cf7-d78b-4638bf07efbd"
      },
      "execution_count": 47,
      "outputs": [
        {
          "output_type": "display_data",
          "data": {
            "text/plain": [
              "<Figure size 432x216 with 2 Axes>"
            ],
            "image/png": "[encoded data removed]"
          },
          "metadata": {
            "needs_background": "light"
          }
        }
      ]
    },
    {
      "cell_type": "code",
      "source": [
        "i = 1\n",
        "plt.figure(figsize=(6,3))\n",
        "plt.subplot(1,2,1)\n",
        "plot_image(i, predictions[i], test_y, test_x)\n",
        "plt.subplot(1,2,2)\n",
        "plot_value_array(i, predictions[i],  test_y)\n",
        "plt.show()"
      ],
      "metadata": {
        "colab": {
          "base_uri": "https://localhost:8080/",
          "height": 211
        },
        "id": "rFOIZci97GmY",
        "outputId": "4b72ca53-fb8d-4884-cdb9-2e09d2c6e716"
      },
      "execution_count": 48,
      "outputs": [
        {
          "output_type": "display_data",
          "data": {
            "text/plain": [
              "<Figure size 432x216 with 2 Axes>"
            ],
            "image/png": "[encoded data removed]"
          },
          "metadata": {
            "needs_background": "light"
          }
        }
      ]
    },
    {
      "cell_type": "code",
      "source": [
        "i = 2\n",
        "plt.figure(figsize=(6,3))\n",
        "plt.subplot(1,2,1)\n",
        "plot_image(i, predictions[i], test_y, test_x)\n",
        "plt.subplot(1,2,2)\n",
        "plot_value_array(i, predictions[i],  test_y)\n",
        "plt.show()"
      ],
      "metadata": {
        "colab": {
          "base_uri": "https://localhost:8080/",
          "height": 211
        },
        "id": "UmB0Fj0I8qMO",
        "outputId": "11384cdf-03d2-4efc-f44b-3d01d7c485c4"
      },
      "execution_count": 49,
      "outputs": [
        {
          "output_type": "display_data",
          "data": {
            "text/plain": [
              "<Figure size 432x216 with 2 Axes>"
            ],
            "image/png": "[encoded data removed]"
          },
          "metadata": {
            "needs_background": "light"
          }
        }
      ]
    },
    {
      "cell_type": "code",
      "source": [
        "i = 3\n",
        "plt.figure(figsize=(6,3))\n",
        "plt.subplot(1,2,1)\n",
        "plot_image(i, predictions[i], test_y, test_x)\n",
        "plt.subplot(1,2,2)\n",
        "plot_value_array(i, predictions[i],  test_y)\n",
        "plt.show()"
      ],
      "metadata": {
        "colab": {
          "base_uri": "https://localhost:8080/",
          "height": 211
        },
        "id": "sAhl8Sg48sI1",
        "outputId": "6ac97f77-159e-41f8-ca55-b1fe9aab03a7"
      },
      "execution_count": 50,
      "outputs": [
        {
          "output_type": "display_data",
          "data": {
            "text/plain": [
              "<Figure size 432x216 with 2 Axes>"
            ],
            "image/png": "[encoded data removed]"
          },
          "metadata": {
            "needs_background": "light"
          }
        }
      ]
    },
    {
      "cell_type": "code",
      "source": [
        "i = 4\n",
        "plt.figure(figsize=(6,3))\n",
        "plt.subplot(1,2,1)\n",
        "plot_image(i, predictions[i], test_y, test_x)\n",
        "plt.subplot(1,2,2)\n",
        "plot_value_array(i, predictions[i],  test_y)\n",
        "plt.show()"
      ],
      "metadata": {
        "colab": {
          "base_uri": "https://localhost:8080/",
          "height": 211
        },
        "id": "IVLfk6Q48uZ-",
        "outputId": "cec6627b-8017-4436-fc8b-ed390b446a27"
      },
      "execution_count": 51,
      "outputs": [
        {
          "output_type": "display_data",
          "data": {
            "text/plain": [
              "<Figure size 432x216 with 2 Axes>"
            ],
            "image/png": "[encoded data removed]"
          },
          "metadata": {
            "needs_background": "light"
          }
        }
      ]
    },
    {
      "cell_type": "code",
      "source": [
        "i = 5\n",
        "plt.figure(figsize=(6,3))\n",
        "plt.subplot(1,2,1)\n",
        "plot_image(i, predictions[i], test_y, test_x)\n",
        "plt.subplot(1,2,2)\n",
        "plot_value_array(i, predictions[i],  test_y)\n",
        "plt.show()"
      ],
      "metadata": {
        "colab": {
          "base_uri": "https://localhost:8080/",
          "height": 211
        },
        "id": "qlud-jty8v4W",
        "outputId": "56ad30a1-4290-4f7a-e498-745b7ffc4bdf"
      },
      "execution_count": 52,
      "outputs": [
        {
          "output_type": "display_data",
          "data": {
            "text/plain": [
              "<Figure size 432x216 with 2 Axes>"
            ],
            "image/png": "[encoded data removed]"
          },
          "metadata": {
            "needs_background": "light"
          }
        }
      ]
    },
    {
      "cell_type": "code",
      "source": [
        "i = 6\n",
        "plt.figure(figsize=(6,3))\n",
        "plt.subplot(1,2,1)\n",
        "plot_image(i, predictions[i], test_y, test_x)\n",
        "plt.subplot(1,2,2)\n",
        "plot_value_array(i, predictions[i],  test_y)\n",
        "plt.show()"
      ],
      "metadata": {
        "colab": {
          "base_uri": "https://localhost:8080/",
          "height": 211
        },
        "id": "9aNNgzD_8xiH",
        "outputId": "de85b053-371a-4532-827c-baf7cc370139"
      },
      "execution_count": 53,
      "outputs": [
        {
          "output_type": "display_data",
          "data": {
            "text/plain": [
              "<Figure size 432x216 with 2 Axes>"
            ],
            "image/png": "[encoded data removed]"
          },
          "metadata": {
            "needs_background": "light"
          }
        }
      ]
    },
    {
      "cell_type": "code",
      "source": [
        "i = 7\n",
        "plt.figure(figsize=(6,3))\n",
        "plt.subplot(1,2,1)\n",
        "plot_image(i, predictions[i], test_y, test_x)\n",
        "plt.subplot(1,2,2)\n",
        "plot_value_array(i, predictions[i],  test_y)\n",
        "plt.show()"
      ],
      "metadata": {
        "colab": {
          "base_uri": "https://localhost:8080/",
          "height": 211
        },
        "id": "EetSBsSo8zSW",
        "outputId": "06c6fcaa-f3f9-4264-a611-047cd034171d"
      },
      "execution_count": 54,
      "outputs": [
        {
          "output_type": "display_data",
          "data": {
            "text/plain": [
              "<Figure size 432x216 with 2 Axes>"
            ],
            "image/png": "[encoded data removed]"
          },
          "metadata": {
            "needs_background": "light"
          }
        }
      ]
    },
    {
      "cell_type": "code",
      "source": [
        "i = 8\n",
        "plt.figure(figsize=(6,3))\n",
        "plt.subplot(1,2,1)\n",
        "plot_image(i, predictions[i], test_y, test_x)\n",
        "plt.subplot(1,2,2)\n",
        "plot_value_array(i, predictions[i],  test_y)\n",
        "plt.show()"
      ],
      "metadata": {
        "colab": {
          "base_uri": "https://localhost:8080/",
          "height": 211
        },
        "id": "dn55zNa8800G",
        "outputId": "69ed5a63-d02a-42ff-d10a-dc96e6a8079c"
      },
      "execution_count": 55,
      "outputs": [
        {
          "output_type": "display_data",
          "data": {
            "text/plain": [
              "<Figure size 432x216 with 2 Axes>"
            ],
            "image/png": "[encoded data removed]"
          },
          "metadata": {
            "needs_background": "light"
          }
        }
      ]
    },
    {
      "cell_type": "code",
      "source": [
        "i = 9\n",
        "plt.figure(figsize=(6,3))\n",
        "plt.subplot(1,2,1)\n",
        "plot_image(i, predictions[i], test_y, test_x)\n",
        "plt.subplot(1,2,2)\n",
        "plot_value_array(i, predictions[i],  test_y)\n",
        "plt.show()"
      ],
      "metadata": {
        "colab": {
          "base_uri": "https://localhost:8080/",
          "height": 211
        },
        "id": "GMGQTPal824N",
        "outputId": "021c89d2-b937-49e4-cea9-ec1f055d9e9f"
      },
      "execution_count": 56,
      "outputs": [
        {
          "output_type": "display_data",
          "data": {
            "text/plain": [
              "<Figure size 432x216 with 2 Axes>"
            ],
            "image/png": "[encoded data removed]"
          },
          "metadata": {
            "needs_background": "light"
          }
        }
      ]
    },
    {
      "cell_type": "code",
      "source": [
        "# Plot the first X test images, their predicted labels, and the true labels.\n",
        "# Color correct predictions in blue and incorrect predictions in red.\n",
        "num_rows = 5\n",
        "num_cols = 3\n",
        "num_images = num_rows*num_cols\n",
        "plt.figure(figsize=(2*2*num_cols, 2*num_rows))\n",
        "for i in range(num_images):\n",
        "  plt.subplot(num_rows, 2*num_cols, 2*i+1)\n",
        "  plot_image(i, predictions[i], test_y, test_x)\n",
        "  plt.subplot(num_rows, 2*num_cols, 2*i+2)\n",
        "  plot_value_array(i, predictions[i], test_y)\n",
        "plt.tight_layout()\n",
        "plt.show()"
      ],
      "metadata": {
        "colab": {
          "base_uri": "https://localhost:8080/",
          "height": 729
        },
        "id": "bw1evn2jCi2Z",
        "outputId": "9c12dd24-5289-4298-90fe-22c68efdd491"
      },
      "execution_count": 57,
      "outputs": [
        {
          "output_type": "display_data",
          "data": {
            "text/plain": [
              "<Figure size 864x720 with 30 Axes>"
            ],
            "image/png": "[encoded data removed]"
          },
          "metadata": {
            "needs_background": "light"
          }
        }
      ]
    },
    {
      "cell_type": "code",
      "source": [
        "# Grab an image from the test dataset.\n",
        "img = test_x[0]\n",
        "\n",
        "print(img.shape)"
      ],
      "metadata": {
        "colab": {
          "base_uri": "https://localhost:8080/"
        },
        "id": "konHb8pSDAXh",
        "outputId": "c38e512a-8054-4462-a54a-005ddc6b2c90"
      },
      "execution_count": 58,
      "outputs": [
        {
          "output_type": "stream",
          "name": "stdout",
          "text": [
            "(28, 28)\n"
          ]
        }
      ]
    },
    {
      "cell_type": "code",
      "source": [
        "# Add the image to a batch where it's the only member.\n",
        "img = (npy.expand_dims(img,0))\n",
        "\n",
        "print(img.shape)"
      ],
      "metadata": {
        "colab": {
          "base_uri": "https://localhost:8080/"
        },
        "id": "Xlifyt04DD9C",
        "outputId": "a3267d14-41be-4ba0-d2f1-2b72c6693112"
      },
      "execution_count": 59,
      "outputs": [
        {
          "output_type": "stream",
          "name": "stdout",
          "text": [
            "(1, 28, 28)\n"
          ]
        }
      ]
    },
    {
      "cell_type": "code",
      "source": [
        "predictions_single = model.predict(img)\n",
        "\n",
        "print(predictions_single)"
      ],
      "metadata": {
        "colab": {
          "base_uri": "https://localhost:8080/"
        },
        "id": "ammvUc8-DHuw",
        "outputId": "d6e303c8-b87d-46b9-91c9-afaf056eee83"
      },
      "execution_count": 60,
      "outputs": [
        {
          "output_type": "stream",
          "name": "stdout",
          "text": [
            "1/1 [==============================] - 0s 17ms/step\n",
            "[[0.00694431 0.7496106  0.03631233 0.0223501  0.02739648 0.03473197\n",
            "  0.03047427 0.0364477  0.0493347  0.00639762]]\n"
          ]
        }
      ]
    },
    {
      "cell_type": "code",
      "source": [
        "plot_value_array(1, predictions_single[0], test_y)\n",
        "_ = plt.xticks(range(10), class_names, rotation=45)"
      ],
      "metadata": {
        "colab": {
          "base_uri": "https://localhost:8080/",
          "height": 267
        },
        "id": "OuNV_b0wDLjQ",
        "outputId": "9e1a2575-c8b1-4aa8-9741-139de4efd930"
      },
      "execution_count": 61,
      "outputs": [
        {
          "output_type": "display_data",
          "data": {
            "text/plain": [
              "<Figure size 432x288 with 1 Axes>"
            ],
            "image/png": "[encoded data removed]"
          },
          "metadata": {
            "needs_background": "light"
          }
        }
      ]
    },
    {
      "cell_type": "code",
      "source": [
        "npy.argmax(predictions_single[0])"
      ],
      "metadata": {
        "colab": {
          "base_uri": "https://localhost:8080/"
        },
        "id": "KOK8DQeVDZ7Z",
        "outputId": "5ede2e00-6654-4a7e-d99d-d718ecd96dc0"
      },
      "execution_count": 62,
      "outputs": [
        {
          "output_type": "execute_result",
          "data": {
            "text/plain": [
              "1"
            ]
          },
          "metadata": {},
          "execution_count": 62
        }
      ]
    }
  ]
}